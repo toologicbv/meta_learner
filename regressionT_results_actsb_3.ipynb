{
 "cells": [
  {
   "cell_type": "code",
   "execution_count": 1,
   "metadata": {
    "collapsed": false
   },
   "outputs": [],
   "source": [
    "import sys\n",
    "sys.path.insert(0, \"/home/jogi/git/repository/meta_learner\")\n",
    "if \"/home/jogi/.local/lib/python2.7/site-packages\" in sys.path:\n",
    "    sys.path.remove(\"/home/jogi/.local/lib/python2.7/site-packages\")\n",
    "\n",
    "import matplotlib\n",
    "import matplotlib.pyplot as plt\n",
    "# from mpl_toolkits.mplot3d import Axes3D\n",
    "from matplotlib import cm\n",
    "%matplotlib inline\n",
    "\n",
    "from datetime import datetime\n",
    "from pytz import timezone\n",
    "import itertools\n",
    "import copy\n",
    "\n",
    "import numpy as np\n",
    "import torch\n",
    "from torch.autograd import Variable\n",
    "import torch.nn as nn\n",
    "import torch.nn.functional as F\n",
    "import torch.optim as optim\n",
    "from torch.nn import init\n",
    "\n",
    "import numpy as np\n",
    "import dill\n",
    "import os\n",
    "from collections import OrderedDict\n",
    "\n",
    "\n",
    "from utils.experiment import Experiment\n",
    "from utils.common import get_model, create_def_argparser, create_logger, softmax\n",
    "from utils.plots import loss_plot, param_error_plot, plot_qt_probs, plot_dist_optimization_steps\n",
    "from utils.plots import plot_actsb_qts, plot_image_map_data, plot_image_map_losses\n",
    "from utils.plots import plot_loss_over_tsteps, plot_halting_step_stats_with_loss, plot_loss_versus_halting_step\n",
    "from utils.probs import TimeStepsDist, ConditionalTimeStepDist\n",
    "from utils.config import config\n",
    "from val_optimizer import validate_optimizer\n",
    "from utils.regression import RegressionFunction, L2LQuadratic, RegressionWithStudentT\n",
    "from utils.helper import tensor_and, tensor_any\n",
    "from utils.batch_handler import ACTBatchHandler\n",
    "from utils.epoch import Epoch, halting_step_stats\n",
    "from models.rnn_optimizer import MetaLearner, AdaptiveMetaLearnerV1, AdaptiveMetaLearnerV2\n",
    "from models.sb_act_optimizer import StickBreakingACTBaseModel\n",
    "\n",
    "from utils.regression import RegressionFunction, L2LQuadratic, neg_log_likelihood_loss, RosenBrock\n",
    "from utils.regression import RegressionWithStudentT\n",
    "\n",
    "%load_ext autoreload\n",
    "%autoreload 2"
   ]
  },
  {
   "cell_type": "code",
   "execution_count": 2,
   "metadata": {
    "collapsed": false
   },
   "outputs": [],
   "source": [
    "expers_to_load = [# Meta V1 model regressionT\n",
    "                  (True, \"run_20170828_19_50_27_metaV1_50ep_50ops_lr5e05\"), # 50ops\n",
    "                  # Stick-breaking V3.2 model\n",
    "                  (True, \"run_20170829_13_55_18_act_sbV3.2_50ep_nu0.5_lr5e05\"), #\n",
    "                  (True, \"run_20170829_14_14_25_act_sbV3.2_50ep_nu0.95_lr5e05\"), # \n",
    "                  # base act_sbV1\n",
    "                  (True, \"run_20170829_13_45_43_act_sbV1_100ep_nu0.5_lr5e05\"), # with cost annealing until 1.\n",
    "                  (True, \"run_20170829_14_04_27_act_sbV1_100ep_nu0.95_lr5e05\"), # with cost annealing unitl 0.5\n",
    "                  # Graves ACT\n",
    "                  (True, \"run_20170829_15_39_38_act_gravesV1_50ep_tau0.0008_lr5e05\"),\n",
    "                  (True, \"run_20170831_13_09_16_act_gravesV1_50ep_tau0.001_lr5e05\"),\n",
    "                  (True, \"run_20170831_13_35_09_act_gravesV1_50ep_tau0.005_lr5e05\"),\n",
    "                  (True, \"run_20170831_13_45_34_act_gravesV1_50ep_tau0.0004_lr5e05\")]\n",
    "\n"
   ]
  },
  {
   "cell_type": "code",
   "execution_count": 3,
   "metadata": {
    "collapsed": false,
    "scrolled": false
   },
   "outputs": [
    {
     "name": "stderr",
     "output_type": "stream",
     "text": [
      "INFO - created local logger for experiment with model metaV1_regression_T_50ops\n",
      "INFO - INFO - loaded existing model from file logs/run_20170828_19_50_27_metaV1_50ep_50ops_lr5e05/metaV1_regression_T_50ops.pkl\n",
      "INFO - Note: MetaLearner is running on GPU\n",
      "INFO - ['linear1.weight', 'linear1.bias', 'lstms.0.fc_i2h.weight', 'lstms.0.fc_i2h.bias', 'lstms.0.fc_h2h.weight', 'lstms.0.fc_h2h.bias', 'lstms.1.fc_i2h.weight', 'lstms.1.fc_i2h.bias', 'lstms.1.fc_h2h.weight', 'lstms.1.fc_h2h.bias', 'linear_out.weight']\n",
      "INFO - created local logger for experiment with model act_sbV3.2_regression_T_nu0.5\n",
      "INFO - INFO - loaded existing model from file logs/run_20170829_13_55_18_act_sbV3.2_50ep_nu0.5_lr5e05/act_sbV3.2_regression_T_nu0.5.pkl\n",
      "INFO - Note: StickBreakingACTBaseModel is running on GPU\n",
      "INFO - ['linear_in.weight', 'linear_in.bias', 'lstms.0.fc_i2h.weight', 'lstms.0.fc_i2h.bias', 'lstms.0.fc_h2h.weight', 'lstms.0.fc_h2h.bias', 'lstms.1.fc_i2h.weight', 'lstms.1.fc_i2h.bias', 'lstms.1.fc_h2h.weight', 'lstms.1.fc_h2h.bias', 'theta_linear_out.weight', 'rho_linear_out.weight', 'rho_linear_out.bias']\n",
      "INFO - created local logger for experiment with model act_sbV3.2_regression_T_nu0.95\n",
      "INFO - INFO - loaded existing model from file logs/run_20170829_14_14_25_act_sbV3.2_50ep_nu0.95_lr5e05/act_sbV3.2_regression_T_nu0.95.pkl\n",
      "INFO - Note: StickBreakingACTBaseModel is running on GPU\n",
      "INFO - ['linear_in.weight', 'linear_in.bias', 'lstms.0.fc_i2h.weight', 'lstms.0.fc_i2h.bias', 'lstms.0.fc_h2h.weight', 'lstms.0.fc_h2h.bias', 'lstms.1.fc_i2h.weight', 'lstms.1.fc_i2h.bias', 'lstms.1.fc_h2h.weight', 'lstms.1.fc_h2h.bias', 'theta_linear_out.weight', 'rho_linear_out.weight', 'rho_linear_out.bias']\n",
      "INFO - created local logger for experiment with model act_sbV1_regression_T_nu0.5\n",
      "INFO - INFO - loaded existing model from file logs/run_20170829_13_45_43_act_sbV1_100ep_nu0.5_lr5e05/act_sbV1_regression_T_nu0.5.pkl\n",
      "INFO - Note: StickBreakingACTBaseModel is running on GPU\n",
      "INFO - ['linear_in.weight', 'linear_in.bias', 'lstms.0.fc_i2h.weight', 'lstms.0.fc_i2h.bias', 'lstms.0.fc_h2h.weight', 'lstms.0.fc_h2h.bias', 'lstms.1.fc_i2h.weight', 'lstms.1.fc_i2h.bias', 'lstms.1.fc_h2h.weight', 'lstms.1.fc_h2h.bias', 'theta_linear_out.weight', 'rho_linear_out.weight', 'rho_linear_out.bias']\n",
      "INFO - created local logger for experiment with model act_sbV1_regression_T_nu0.95\n",
      "INFO - INFO - loaded existing model from file logs/run_20170829_14_04_27_act_sbV1_100ep_nu0.95_lr5e05/act_sbV1_regression_T_nu0.95.pkl\n",
      "INFO - Note: StickBreakingACTBaseModel is running on GPU\n",
      "INFO - ['linear_in.weight', 'linear_in.bias', 'lstms.0.fc_i2h.weight', 'lstms.0.fc_i2h.bias', 'lstms.0.fc_h2h.weight', 'lstms.0.fc_h2h.bias', 'lstms.1.fc_i2h.weight', 'lstms.1.fc_i2h.bias', 'lstms.1.fc_h2h.weight', 'lstms.1.fc_h2h.bias', 'theta_linear_out.weight', 'rho_linear_out.weight', 'rho_linear_out.bias']\n",
      "INFO - created local logger for experiment with model act_gravesV1_regression_T_tau0.0008\n",
      "INFO - INFO - loaded existing model from file logs/run_20170829_15_39_38_act_gravesV1_50ep_tau0.0008_lr5e05/act_gravesV1_regression_T_tau0.0008.pkl\n",
      "INFO - Note: StickBreakingACTBaseModel is running on GPU\n",
      "INFO - ['linear_in.weight', 'linear_in.bias', 'lstms.0.fc_i2h.weight', 'lstms.0.fc_i2h.bias', 'lstms.0.fc_h2h.weight', 'lstms.0.fc_h2h.bias', 'lstms.1.fc_i2h.weight', 'lstms.1.fc_i2h.bias', 'lstms.1.fc_h2h.weight', 'lstms.1.fc_h2h.bias', 'theta_linear_out.weight', 'rho_linear_out.weight', 'rho_linear_out.bias']\n",
      "INFO - created local logger for experiment with model act_gravesV1_regression_T_tau0.001\n",
      "INFO - INFO - loaded existing model from file logs/run_20170831_13_09_16_act_gravesV1_50ep_tau0.001_lr5e05/act_gravesV1_regression_T_tau0.001.pkl\n",
      "INFO - Note: StickBreakingACTBaseModel is running on GPU\n",
      "INFO - ['linear_in.weight', 'linear_in.bias', 'lstms.0.fc_i2h.weight', 'lstms.0.fc_i2h.bias', 'lstms.0.fc_h2h.weight', 'lstms.0.fc_h2h.bias', 'lstms.1.fc_i2h.weight', 'lstms.1.fc_i2h.bias', 'lstms.1.fc_h2h.weight', 'lstms.1.fc_h2h.bias', 'theta_linear_out.weight', 'rho_linear_out.weight', 'rho_linear_out.bias']\n",
      "INFO - created local logger for experiment with model act_gravesV1_regression_T_tau0.005\n",
      "INFO - INFO - loaded existing model from file logs/run_20170831_13_35_09_act_gravesV1_50ep_tau0.005_lr5e05/act_gravesV1_regression_T_tau0.005.pkl\n",
      "INFO - Note: StickBreakingACTBaseModel is running on GPU\n",
      "INFO - ['linear_in.weight', 'linear_in.bias', 'lstms.0.fc_i2h.weight', 'lstms.0.fc_i2h.bias', 'lstms.0.fc_h2h.weight', 'lstms.0.fc_h2h.bias', 'lstms.1.fc_i2h.weight', 'lstms.1.fc_i2h.bias', 'lstms.1.fc_h2h.weight', 'lstms.1.fc_h2h.bias', 'theta_linear_out.weight', 'rho_linear_out.weight', 'rho_linear_out.bias']\n",
      "INFO - created local logger for experiment with model act_gravesV1_regression_T_tau0.0004\n",
      "INFO - INFO - loaded existing model from file logs/run_20170831_13_45_34_act_gravesV1_50ep_tau0.0004_lr5e05/act_gravesV1_regression_T_tau0.0004.pkl\n",
      "INFO - Note: StickBreakingACTBaseModel is running on GPU\n",
      "INFO - ['linear_in.weight', 'linear_in.bias', 'lstms.0.fc_i2h.weight', 'lstms.0.fc_i2h.bias', 'lstms.0.fc_h2h.weight', 'lstms.0.fc_h2h.bias', 'lstms.1.fc_i2h.weight', 'lstms.1.fc_i2h.bias', 'lstms.1.fc_h2h.weight', 'lstms.1.fc_h2h.bias', 'theta_linear_out.weight', 'rho_linear_out.weight', 'rho_linear_out.bias']\n"
     ]
    },
    {
     "name": "stdout",
     "output_type": "stream",
     "text": [
      "0 Loading model metaV1_regression_T_50ops / run_20170828_19_50_27_metaV1_50ep_50ops_lr5e05\n",
      "1 Loading model act_sbV3.2_regression_T_nu0.5 (q-prob 0.50) / run_20170829_13_55_18_act_sbV3.2_50ep_nu0.5_lr5e05\n",
      "2 Loading model act_sbV3.2_regression_T_nu0.95 (q-prob 0.95) / run_20170829_14_14_25_act_sbV3.2_50ep_nu0.95_lr5e05\n",
      "3 Loading model act_sbV1_regression_T_nu0.5 (q-prob 0.50) / run_20170829_13_45_43_act_sbV1_100ep_nu0.5_lr5e05\n",
      "4 Loading model act_sbV1_regression_T_nu0.95 (q-prob 0.95) / run_20170829_14_04_27_act_sbV1_100ep_nu0.95_lr5e05\n",
      "5 Loading model act_gravesV1_regression_T_tau0.0008 (q-prob 0.90) / run_20170829_15_39_38_act_gravesV1_50ep_tau0.0008_lr5e05\n",
      "6 Loading model act_gravesV1_regression_T_tau0.001 (q-prob 0.60) / run_20170831_13_09_16_act_gravesV1_50ep_tau0.001_lr5e05\n",
      "7 Loading model act_gravesV1_regression_T_tau0.005 (q-prob 0.60) / run_20170831_13_35_09_act_gravesV1_50ep_tau0.005_lr5e05\n",
      "8 Loading model act_gravesV1_regression_T_tau0.0004 (q-prob 0.60) / run_20170831_13_45_34_act_gravesV1_50ep_tau0.0004_lr5e05\n"
     ]
    }
   ],
   "source": [
    "## IMPORTANT ---- NUMBER OF STEPS FOR TEST EVALUATION\n",
    "MAX_EVAL_STEPS = 200\n",
    "\n",
    "without_models = False\n",
    "\n",
    "experiments = []\n",
    "models = []\n",
    "new_experiments = []\n",
    "explogger = None\n",
    "m = 0\n",
    "if 'logger' in vars() or 'logger' in globals():\n",
    "    pass\n",
    "else:\n",
    "    logger = create_logger(exper=None, file_handler=True, output_dir=\"/home/jogi/git/repository/meta_learner/logs\")\n",
    "\n",
    "for e, exp_path in enumerate(expers_to_load):\n",
    "    if exp_path[0]:\n",
    "        \n",
    "        exp = Experiment.load(exp_path[1], do_log=True, meta_logger=logger)\n",
    "            \n",
    "        if \"act\" in exp.args.model:\n",
    "            print(\"{} Loading model {} (q-prob {:.2f}) / {}\".format(m, exp.args.model, \n",
    "                                                                    exp.config.ptT_shape_param,\n",
    "                                                                    exp.args.log_dir))\n",
    "        else:\n",
    "            print(\"{} Loading model {} / {}\".format(m, exp.args.model, exp.args.log_dir))\n",
    "        \n",
    "        experiments.append(exp)\n",
    "        m += 1\n",
    "        if not without_models:\n",
    "            num_inputs = 1\n",
    "            if exp.args.problem == 'mlp':\n",
    "                num_inputs = 3\n",
    "            models.append(get_model(exp, num_inputs, retrain=True))\n",
    "        new_experiments.append(Experiment(exp.args, exp.config))\n",
    "        new_experiments[-1].batch_handler_class = experiments[-1].batch_handler_class\n",
    "        new_experiments[-1].output_dir = experiments[-1].output_dir\n",
    "        new_experiments[-1].reset_val_stats()\n",
    "        new_experiments[-1].meta_logger = logger\n"
   ]
  },
  {
   "cell_type": "code",
   "execution_count": 7,
   "metadata": {
    "collapsed": false
   },
   "outputs": [
    {
     "name": "stdout",
     "output_type": "stream",
     "text": [
      "Loading experiment run_20170828_19_50_27_metaV1_50ep_50ops_lr5e05\n",
      "Loading experiment run_20170829_13_55_18_act_sbV3.2_50ep_nu0.5_lr5e05\n",
      "Loading experiment run_20170829_14_14_25_act_sbV3.2_50ep_nu0.95_lr5e05\n",
      "Loading experiment run_20170829_13_45_43_act_sbV1_100ep_nu0.5_lr5e05\n",
      "Loading experiment run_20170829_14_04_27_act_sbV1_100ep_nu0.95_lr5e05\n",
      "Loading experiment run_20170829_15_39_38_act_gravesV1_50ep_tau0.0008_lr5e05\n",
      "Loading experiment run_20170831_13_09_16_act_gravesV1_50ep_tau0.001_lr5e05\n",
      "Loading experiment run_20170831_13_35_09_act_gravesV1_50ep_tau0.005_lr5e05\n",
      "Loading experiment run_20170831_13_45_34_act_gravesV1_50ep_tau0.0004_lr5e05\n",
      "Ready\n"
     ]
    }
   ],
   "source": [
    "del new_experiments\n",
    "new_experiments = []\n",
    "\n",
    "\n",
    "for exper in expers_to_load:\n",
    "    if exper[0]:\n",
    "        print(\"Loading experiment {}\".format(exper[1]))\n",
    "        new_experiments.append(Experiment.load(path_to_exp=exper[1] + \"/\" + \n",
    "                                               \"exp_eval_stats_10000_\" + str(MAX_EVAL_STEPS) +\"steps.dll\",\n",
    "                                               full_path=True))\n",
    "        if new_experiments[-1].meta_logger is None:\n",
    "            new_experiments[-1].meta_logger = logger\n",
    "print(\"Ready\")"
   ]
  },
  {
   "cell_type": "code",
   "execution_count": 4,
   "metadata": {
    "collapsed": false
   },
   "outputs": [
    {
     "name": "stdout",
     "output_type": "stream",
     "text": [
      "Ready\n"
     ]
    }
   ],
   "source": [
    "with open(\"data/test_regression_T_10000_10_1.0_10.dll\", 'rb') as f:\n",
    "     test_funcs = dill.load(f)\n",
    "print(\"Ready\")"
   ]
  },
  {
   "cell_type": "code",
   "execution_count": 15,
   "metadata": {
    "collapsed": false,
    "scrolled": false
   },
   "outputs": [
    {
     "name": "stdout",
     "output_type": "stream",
     "text": [
      "INFO - Successfully saved fig figures/10reg_T_metaV1_act_graves_act_sbV3.2_1_50.png\n"
     ]
    },
    {
     "data": {
      "image/png": "[encoded data removed]",
      "text/plain": [
       "<matplotlib.figure.Figure at 0x7f335815ba90>"
      ]
     },
     "metadata": {},
     "output_type": "display_data"
    }
   ],
   "source": [
    "some_experiments=[new_experiments[0], new_experiments[2], new_experiments[6], new_experiments[8]]\n",
    "best_val_runs, lowest_value = plot_loss_over_tsteps(some_experiments, do_show=True, \n",
    "                                              do_save=True, \n",
    "                                              plot_best=False,\n",
    "                                              fig_name=\"10reg_T_metaV1_act_graves_act_sbV3.2_1_50\", \n",
    "                                              loss_type=\"loss\",\n",
    "                                              min_step=0,\n",
    "                                              max_step=50,\n",
    "                                              sort_exper=\"10d-regression_T\",\n",
    "                                              log_scale=False,\n",
    "                                              # y_lim=[9, 66],\n",
    "                                              with_stddev=False,\n",
    "                                              runID=None)"
   ]
  },
  {
   "cell_type": "code",
   "execution_count": 5,
   "metadata": {
    "collapsed": false
   },
   "outputs": [
    {
     "name": "stdout",
     "output_type": "stream",
     "text": [
      "INFO - Successfully saved fig logs/run_20170814_19_02_30_act_sbV1_50ep_nu0.9_lr5e05/loss_optimizer_act_sbV1_50ep_nu0.9_08:58:01.png\n"
     ]
    },
    {
     "data": {
      "image/png": "[encoded data removed]",
      "text/plain": [
       "<matplotlib.figure.Figure at 0x7f32107463d0>"
      ]
     },
     "metadata": {},
     "output_type": "display_data"
    }
   ],
   "source": [
    "loss_plot(experiments[1], loss_type=\"opt_loss\", save=True, show=True, \n",
    "          log_scale=False, validation=True, only_val=False)"
   ]
  },
  {
   "cell_type": "code",
   "execution_count": null,
   "metadata": {
    "collapsed": false,
    "scrolled": false
   },
   "outputs": [],
   "source": [
    "# exp_error_curves = [experiments[0],  experiments[3]]\n",
    "for exp, mdl in zip(experiments, models):\n",
    "    print(mdl.name)\n",
    "    loss_plot(exp, loss_type=\"loss\", save=False, validation=True, show=True)\n"
   ]
  },
  {
   "cell_type": "code",
   "execution_count": null,
   "metadata": {
    "collapsed": false,
    "scrolled": false
   },
   "outputs": [],
   "source": [
    "# eval_new_val_expers = [new_experiments[0], new_experiments[3]] #, new_experiments[5]]\n",
    "\n",
    "best_val_runs, lowest_value = plot_val_result(new_experiments, \n",
    "                                              do_show=True, \n",
    "                                              do_save=True, \n",
    "                                              plot_best=False,\n",
    "                                              loss_type=\"loss\",\n",
    "                                              fig_name=\"expv5_val_results_1000_loss_10ops\")"
   ]
  },
  {
   "cell_type": "code",
   "execution_count": null,
   "metadata": {
    "collapsed": false,
    "scrolled": false
   },
   "outputs": [],
   "source": [
    "# eval_expers = new_exp_only = [experiments[0], experiments[1], experiments[2]]\n",
    "plot_parm_loss_steps(experiments, num_of_plots=4, do_show=True, \n",
    "                     do_save=False, loss_type=\"loss\", log_scale=False, max_step=20,\n",
    "                    fig_name=\"metaV2_val_loss_during_training\")"
   ]
  },
  {
   "cell_type": "code",
   "execution_count": 5,
   "metadata": {
    "collapsed": false,
    "scrolled": false
   },
   "outputs": [
    {
     "name": "stderr",
     "output_type": "stream",
     "text": [
      "INFO - Epoch: 400 - Evaluating 10000 test functions\n"
     ]
    },
    {
     "name": "stdout",
     "output_type": "stream",
     "text": [
      "Validating model act_gravesV1_regression_T_tau0.0004 with q-prob 0.600\n"
     ]
    },
    {
     "name": "stderr",
     "output_type": "stream",
     "text": [
      "INFO - ! - Validation last step 200 - !\n",
      "INFO - Epoch: 400 - evaluation result - time step losses\n",
      "INFO - [ 56.32   43.27   39.529  38.067  36.37   35.124  33.903  32.844  32.027\n",
      "  31.299  30.672  30.137  29.666  29.232  28.836  28.468  28.125  27.805\n",
      "  27.506  27.227  26.967  26.722  26.49   26.269  26.058  25.857  25.666\n",
      "  25.482  25.305  25.135  24.971  24.813  24.661  24.516  24.375  24.242\n",
      "  24.113  23.987  23.865  23.747  23.632  23.521  23.415  23.311  23.211\n",
      "  23.113  23.017  22.923  22.83   22.74   22.652  22.567  22.483  22.403\n",
      "  22.324  22.248  22.172  22.099  22.027  21.956  21.887  21.82   21.755\n",
      "  21.691  21.629  21.566  21.505  21.446  21.387  21.33   21.276  21.221\n",
      "  21.168  21.117  21.065  21.014  20.964  20.916  20.869  20.824  20.779\n",
      "  20.735  20.692  20.649  20.607  20.566  20.525  20.485  20.445  20.406\n",
      "  20.366  20.328  20.291  20.255  20.219  20.185  20.151  20.118  20.086\n",
      "  20.052  20.02   19.988  19.957  19.926  19.896  19.866  19.836  19.807\n",
      "  19.779  19.75   19.722  19.695  19.669  19.644  19.618  19.593  19.568\n",
      "  19.542  19.517  19.493  19.468  19.444  19.419  19.394  19.37   19.346\n",
      "  19.322  19.3    19.278  19.256  19.234  19.212  19.19   19.169  19.149\n",
      "  19.128  19.108  19.089  19.069  19.05   19.031  19.012  18.993  18.974\n",
      "  18.955  18.937  18.919  18.901  18.885  18.869  18.851  18.835  18.819\n",
      "  18.803  18.786  18.771  18.754  18.739  18.724  18.708  18.693  18.678\n",
      "  18.663  18.648  18.633  18.619  18.604  18.59   18.576  18.562  18.549\n",
      "  18.535  18.521  18.507  18.493  18.48   18.467  18.454  18.441  18.428\n",
      "  18.414  18.402  18.389  18.375  18.363  18.35   18.337  18.324  18.312\n",
      "  18.299  18.287  18.274  18.262  18.251  18.24   18.227  18.216  18.205\n",
      "  18.194  18.183  18.173]\n",
      "INFO - Epoch: 400, evaluation - halting step distribution\n",
      "INFO - [    0     0     0     0     0     0     0     0     0     0     0     0\n",
      "     0     0     0     0     0     0     0     0     0     0     0     0\n",
      "     0     0     0     0     0     0     0     0     0     0     0     0\n",
      "     0     0     0     0     0     0     0     0     0     0     0     0\n",
      "     0     0     0     0     0     0     0     0     0     0     0     0\n",
      "     0     0     0     0     0     0     0     0     0     0     0     0\n",
      "     0     0     0     0     0     0     0     0     0     0     0     0\n",
      "     0     0     0     0     0     0     0     0     0     0     0     0\n",
      "     0     0     0     0     0     0     0     0     0     0     0     0\n",
      "     0     0     0     0     0     0     0     0     0     0     0     0\n",
      "     0     0     0     0     0     0     0     0     0     0     0     0\n",
      "     0     0     0     0     0     0     0     0     0     0     0     0\n",
      "     0     0     0     0     0     0     0     0     0     0     0     0\n",
      "     0     0     0     0     0     0     0     0     0     0     0     0\n",
      "     0     0     0     0     0     0     0     0     0     0     0     0\n",
      "     0     0     0     0     0     0     0     0     0     0     0     0\n",
      "     0     0     0     0     0     0     0 10000]\n",
      "INFO - Epoch: 400, evaluation - Average number of optimization steps 200.000 stddev 0.000 median 200 sum-steps 2000000\n",
      "INFO - Epoch: 400 - End test evaluation (elapsed time 8.37 sec) avg act loss/kl-term/penalty 219.582/200.9263/0.0000\n",
      "INFO - Epoch: 400 - Successfully saved model to logs/run_20170831_13_45_34_act_gravesV1_50ep_tau0.0004_lr5e05/act_gravesV1_regression_T_tau0.0004_eval_run400.pkl\n",
      "INFO - Epoch 400 - Saving experimental details to logs/run_20170831_13_45_34_act_gravesV1_50ep_tau0.0004_lr5e05/exp_eval_stats_10000_200steps.dll\n"
     ]
    },
    {
     "name": "stdout",
     "output_type": "stream",
     "text": [
      "End....\n"
     ]
    }
   ],
   "source": [
    "exp_idx = 8\n",
    "model = models[exp_idx]\n",
    "\n",
    "max_steps = 200\n",
    "# new_experiments[exp_idx].model_path\n",
    "\n",
    "new_experiments[exp_idx].epoch = 400\n",
    "new_experiments[exp_idx].config.max_val_opt_steps = max_steps\n",
    "new_experiments[exp_idx].config.T = max_steps\n",
    "new_experiments[exp_idx].type_prior = \"geometric\"\n",
    "\n",
    "\n",
    "epoch_obj = Epoch()\n",
    "epoch_obj.start(new_experiments[exp_idx])\n",
    "print(\"Validating model {} with q-prob {:.3f}\".format(model.name, experiments[exp_idx].config.ptT_shape_param))\n",
    "new_experiments[exp_idx].eval(epoch_obj, model, functions=test_funcs, save_run=None, save_model=False)\n",
    "print(\"End....\")\n",
    "new_experiments[exp_idx].save(\"exp_eval_stats_10000_\"+str(max_steps) + \"steps.dll\")"
   ]
  },
  {
   "cell_type": "code",
   "execution_count": 9,
   "metadata": {
    "collapsed": false
   },
   "outputs": [],
   "source": [
    "X = np.vstack(new_experiments[2].val_stats[\"halt_step_funcs\"].values())"
   ]
  },
  {
   "cell_type": "code",
   "execution_count": 5,
   "metadata": {
    "collapsed": false,
    "scrolled": false
   },
   "outputs": [
    {
     "name": "stderr",
     "output_type": "stream",
     "text": [
      "INFO - ---------------------------------------------------------------------------------------\n",
      "INFO - INFO - Epoch 400: Validating model metaV1_regression_T_50ops with 10000 functions\n"
     ]
    },
    {
     "name": "stdout",
     "output_type": "stream",
     "text": [
      "Validating model metaV1_regression_T_50ops with q-prob 0.900\n"
     ]
    },
    {
     "name": "stderr",
     "output_type": "stream",
     "text": [
      "INFO - INFO - Epoch 400, elapsed time 8.13 seconds: \n",
      "INFO - INFO - Epoch 400: Final validation stats: total-step-losses / final-step loss / final-true_min: 4.187e+03/17.54/6.088\n",
      "INFO - INFO - Epoch 400: Final step losses: [ 56.32   42.028  37.141  35.407  33.649  32.111  31.136  30.411  29.719\n",
      "  29.057  28.528  28.092  27.695  27.315  26.972  26.662  26.373  26.1\n",
      "  25.845  25.609  25.383  25.172  24.975  24.785  24.605  24.432  24.265\n",
      "  24.109  23.959  23.815  23.677  23.546  23.418  23.293  23.174  23.058\n",
      "  22.944  22.833  22.73   22.629  22.529  22.433  22.336  22.241  22.15\n",
      "  22.062  21.978  21.893  21.81   21.73   21.653  21.577  21.503  21.43\n",
      "  21.359  21.291  21.225  21.162  21.1    21.038  20.979  20.92   20.862\n",
      "  20.806  20.751  20.697  20.644  20.593  20.542  20.492  20.443  20.392\n",
      "  20.343  20.295  20.249  20.205  20.163  20.121  20.079  20.038  19.998\n",
      "  19.96   19.922  19.884  19.846  19.809  19.772  19.735  19.701  19.666\n",
      "  19.631  19.597  19.563  19.53   19.497  19.465  19.434  19.403  19.374\n",
      "  19.343  19.314  19.285  19.255  19.227  19.199  19.17   19.143  19.115\n",
      "  19.089  19.062  19.035  19.011  18.987  18.962  18.937  18.912  18.888\n",
      "  18.866  18.844  18.822  18.799  18.775  18.752  18.73   18.709  18.687\n",
      "  18.665  18.645  18.624  18.603  18.581  18.56   18.541  18.521  18.501\n",
      "  18.481  18.462  18.444  18.425  18.407  18.389  18.369  18.351  18.333\n",
      "  18.316  18.299  18.282  18.266  18.248  18.231  18.214  18.199  18.182\n",
      "  18.166  18.15   18.133  18.119  18.102  18.086  18.07   18.055  18.04\n",
      "  18.025  18.012  17.997  17.981  17.967  17.952  17.939  17.925  17.911\n",
      "  17.898  17.884  17.871  17.856  17.844  17.831  17.818  17.804  17.791\n",
      "  17.779  17.768  17.755  17.743  17.73   17.718  17.705  17.693  17.681\n",
      "  17.668  17.657  17.644  17.632  17.619  17.606  17.595  17.582  17.57\n",
      "  17.559  17.547  17.536]\n",
      "INFO - --------------------------- End of validation --------------------------------------------\n",
      "INFO - Epoch 400 - Saving experimental details to logs/run_20170828_19_50_27_metaV1_50ep_50ops_lr5e05/exp_eval_stats_10000_200steps.dll\n"
     ]
    }
   ],
   "source": [
    "exp_idx = 0\n",
    "max_steps = 200\n",
    "new_experiments[exp_idx].epoch = 400\n",
    "new_experiments[exp_idx].config.max_val_opt_steps = max_steps\n",
    "new_experiments[exp_idx].config.T = max_steps\n",
    "new_experiments[exp_idx].config.qt_threshold = 0.95\n",
    "new_experiments[exp_idx].reset_val_stats()\n",
    "if new_experiments[exp_idx].meta_logger is None:\n",
    "    new_experiments[exp_idx].meta_logger = logger\n",
    "# the same object for the validation data\n",
    "model = models[exp_idx]\n",
    "model.opt_step_hist_val = np.zeros(new_experiments[exp_idx].config.max_val_opt_steps)\n",
    "model.qt_hist_val = OrderedDict([(i, np.zeros(i)) \n",
    "                                 for i in np.arange(1, new_experiments[exp_idx].config.max_val_opt_steps + 1)])\n",
    "print(\"Validating model {} with q-prob {:.3f}\".format(model.name, experiments[exp_idx].config.ptT_shape_param))\n",
    "\n",
    "if \"act\" in model.name:\n",
    "    model.init_qt_statistics(new_experiments[exp_idx].config)\n",
    "\n",
    "validate_optimizer(model, new_experiments[exp_idx], explogger, val_set=test_funcs, \n",
    "                   max_steps=max_steps, verbose=False, plot_func=False, show_plot=False, save_plot=False,\n",
    "                   num_of_plots=5, save_model=False, save_qt_prob_funcs=False, \n",
    "                   save_run=\"exp_eval_stats_10000_\"+str(max_steps) + \"steps\")\n",
    "new_experiments[exp_idx].save(\"exp_eval_stats_10000_\"+str(max_steps) + \"steps.dll\")"
   ]
  },
  {
   "cell_type": "code",
   "execution_count": null,
   "metadata": {
    "collapsed": false
   },
   "outputs": [],
   "source": [
    "plot_qt_probs(new_experiments[2], data_set=\"val\", save=True, show=True, \n",
    "              plot_prior=False, height=20, width=20, add_info=True)"
   ]
  },
  {
   "cell_type": "code",
   "execution_count": null,
   "metadata": {
    "collapsed": false
   },
   "outputs": [],
   "source": [
    "from utils.plots import create_exper_label\n",
    "num_of_plots = 13\n",
    "T0 = 23\n",
    "fig = plt.figure(figsize=(8, 25))\n",
    "\n",
    "for i in range(1, num_of_plots+1):\n",
    "    T = T0+i\n",
    "    index = np.arange(1, T+1).astype(int)\n",
    "    qt = exper.val_stats[\"qt_hist\"][30][T]\n",
    "    ax1 = plt.subplot(num_of_plots, 1, i)\n",
    "    plt.bar(index, qt, 0.3, label=\"q(t|{})\".format(T))\n",
    "    ax1.legend(loc=\"best\")\n",
    "    \n",
    "fig_name = \"_\" + \"val\" + \"_\" + create_exper_label(exper)\n",
    "fig_name = os.path.join(exper.output_dir, config.qt_dist_prefix + fig_name + \".png\")\n",
    "plt.savefig(fig_name, bbox_inches='tight')\n",
    "plt.close()"
   ]
  },
  {
   "cell_type": "code",
   "execution_count": 41,
   "metadata": {
    "collapsed": false
   },
   "outputs": [
    {
     "name": "stdout",
     "output_type": "stream",
     "text": [
      "INFO - Successfully saved fig logs/run_20170814_17_04_25_metaV1_50ep_100ops_lr3e05/loss_metaV1_50ep_100ops_21:43:29.png\n"
     ]
    },
    {
     "data": {
      "image/png": "[encoded data removed]",
      "text/plain": [
       "<matplotlib.figure.Figure at 0x7fe27172a490>"
      ]
     },
     "metadata": {},
     "output_type": "display_data"
    }
   ],
   "source": [
    "loss_plot(experiments[0], show=True, save=True, validation=False, only_val=False)"
   ]
  },
  {
   "cell_type": "code",
   "execution_count": null,
   "metadata": {
    "collapsed": false,
    "scrolled": false
   },
   "outputs": [],
   "source": [
    "plot_actsb_qts(new_experiments[3], data_set=\"eval\", save=False, show=True, add_info=False, epoch=400, \n",
    "              fig_name=\"qt_dist_test_eval_500steps\")"
   ]
  },
  {
   "cell_type": "code",
   "execution_count": 79,
   "metadata": {
    "collapsed": false
   },
   "outputs": [
    {
     "name": "stdout",
     "output_type": "stream",
     "text": [
      "INFO - Successfully saved fig logs/run_20170815_14_33_06_act_sbV2_50ep_nu0.95_lr5e05/T_dist_eval.png\n"
     ]
    },
    {
     "data": {
      "image/png": "[encoded data removed]",
      "text/plain": [
       "<matplotlib.figure.Figure at 0x7f5eed47e750>"
      ]
     },
     "metadata": {},
     "output_type": "display_data"
    }
   ],
   "source": [
    "plot_dist_optimization_steps(new_experiments[2], data_set=\"eval\", save=True, show=True, epoch=400)"
   ]
  },
  {
   "cell_type": "code",
   "execution_count": 1,
   "metadata": {
    "collapsed": false
   },
   "outputs": [
    {
     "ename": "NameError",
     "evalue": "name 'plot_loss_versus_halting_step' is not defined",
     "output_type": "error",
     "traceback": [
      "\u001b[1;31m---------------------------------------------------------------------------\u001b[0m",
      "\u001b[1;31mNameError\u001b[0m                                 Traceback (most recent call last)",
      "\u001b[1;32m<ipython-input-1-ffe12ac44dba>\u001b[0m in \u001b[0;36m<module>\u001b[1;34m()\u001b[0m\n\u001b[1;32m----> 1\u001b[1;33m \u001b[0mplot_loss_versus_halting_step\u001b[0m\u001b[1;33m(\u001b[0m\u001b[0mnew_experiments\u001b[0m\u001b[1;33m[\u001b[0m\u001b[1;36m6\u001b[0m\u001b[1;33m]\u001b[0m\u001b[1;33m,\u001b[0m \u001b[0mepoch\u001b[0m\u001b[1;33m=\u001b[0m\u001b[1;36m400\u001b[0m\u001b[1;33m,\u001b[0m \u001b[0mdo_show\u001b[0m\u001b[1;33m=\u001b[0m\u001b[0mTrue\u001b[0m\u001b[1;33m,\u001b[0m \u001b[0mdo_save\u001b[0m\u001b[1;33m=\u001b[0m\u001b[0mTrue\u001b[0m\u001b[1;33m)\u001b[0m\u001b[1;33m\u001b[0m\u001b[0m\n\u001b[0m",
      "\u001b[1;31mNameError\u001b[0m: name 'plot_loss_versus_halting_step' is not defined"
     ]
    }
   ],
   "source": [
    "plot_loss_versus_halting_step(new_experiments[6], epoch=400, do_show=True, do_save=True)"
   ]
  },
  {
   "cell_type": "code",
   "execution_count": 47,
   "metadata": {
    "collapsed": false
   },
   "outputs": [
    {
     "data": {
      "text/plain": [
       "array([ 41.,  51.,  36., ...,  51.,  58.,  45.], dtype=float32)"
      ]
     },
     "execution_count": 47,
     "metadata": {},
     "output_type": "execute_result"
    }
   ],
   "source": [
    "new_experiments[3].val_stats[\"halt_step_funcs\"][400]"
   ]
  },
  {
   "cell_type": "code",
   "execution_count": null,
   "metadata": {
    "collapsed": false
   },
   "outputs": [],
   "source": [
    "def compute_yt(W, x):\n",
    "    return torch.transpose(torch.mm(W ,x.unsqueeze(1)), 1,0)\n",
    "\n",
    "def compute_params(W, y, cuda=False):\n",
    "    \n",
    "    A_plus = np.linalg.pinv(W.data.cpu().numpy())\n",
    "    y = y.data.cpu().numpy()\n",
    "    params = np.squeeze(np.dot(A_plus, y))\n",
    "    params = Variable(torch.from_numpy(params).float().unsqueeze(0))\n",
    "    if cuda:\n",
    "        params = params.cuda()\n",
    "    return params\n",
    "    \n"
   ]
  },
  {
   "cell_type": "code",
   "execution_count": null,
   "metadata": {
    "collapsed": false
   },
   "outputs": [],
   "source": [
    "plot_qt_detailed_stats(new_experiments[0], test_funcs, do_save=True, do_show=True, threshold=0.90)"
   ]
  },
  {
   "cell_type": "code",
   "execution_count": null,
   "metadata": {
    "collapsed": true
   },
   "outputs": [],
   "source": [
    " # \n",
    "plot_kl_div_parts(new_experiments[1], save=False, show=True, final_terms=False, log_qt=True, plot_prior=True,\n",
    "                 fig_name=\"kl_parts_without_tanh\")"
   ]
  },
  {
   "cell_type": "code",
   "execution_count": null,
   "metadata": {
    "collapsed": false
   },
   "outputs": [],
   "source": [
    "from mpl_toolkits.mplot3d import Axes3D\n",
    "from matplotlib import cm\n",
    "from matplotlib.ticker import LinearLocator, FormatStrFormatter\n",
    "\n",
    "fig = plt.figure(figsize=(8, 6))\n",
    "ax = fig.gca(projection='3d')\n",
    "\n",
    "s = 0.05   # Try s=1, 0.25, 0.1, or 0.05\n",
    "X = np.arange(-1.2, 4+s, s)   #Could use linspace instead if dividing\n",
    "Y = np.arange(10, 13+s, s)   #evenly instead of stepping...\n",
    "    \n",
    "#Create the mesh grid(s) for all X/Y combos.\n",
    "X, Y = np.meshgrid(X, Y)\n",
    "\n",
    "#Rosenbrock function w/ two parameters using numpy Arrays\n",
    "Z = (3.5-X)**2 + 100.*(Y-X*X)**2\n",
    "\n",
    "surf = ax.plot_surface(X, Y, Z, rstride=1, cstride=1, cmap=cm.coolwarm,\n",
    "         linewidth=0, antialiased=False)  #Try coolwarm vs jet\n",
    "\n",
    "plt.xlabel('x')\n",
    "plt.ylabel('y')\n",
    "# ax.zaxis.set_major_locator(LinearLocator(10))\n",
    "# ax.zaxis.set_major_formatter(FormatStrFormatter('%.02f'))\n",
    "\n",
    "fig.colorbar(surf, shrink=0.5, aspect=5)\n",
    "\n",
    "#Displays the figure, handles user interface, returns when user closes window\n",
    "plt.show()"
   ]
  },
  {
   "cell_type": "code",
   "execution_count": 5,
   "metadata": {
    "collapsed": false
   },
   "outputs": [
    {
     "name": "stdout",
     "output_type": "stream",
     "text": [
      "Ready\n"
     ]
    }
   ],
   "source": [
    "\"\"\"\n",
    "    Generate new test functions\n",
    "\"\"\"\n",
    "test_funcs = RegressionWithStudentT(n_funcs=10000, n_samples=10, x_dim=10, scale_p=1., shape_p=1, use_cuda=True)\n",
    "with open(\"data/test_regression_T_10000_10_1.0_10.dll\", 'wb') as f:\n",
    "     dill.dump(test_funcs, f)\n",
    "print(\"Ready\")\n"
   ]
  },
  {
   "cell_type": "code",
   "execution_count": 11,
   "metadata": {
    "collapsed": false
   },
   "outputs": [
    {
     "name": "stdout",
     "output_type": "stream",
     "text": [
      "INFO - Successfully saved fig logs/run_20170814_11_13_42_act_sbV1_50ep_nu0.95_lr5e05/loss_act_sbV1_50ep_nu0.95_17:31:24.png\n",
      "INFO - Successfully saved fig logs/run_20170814_11_13_42_act_sbV1_50ep_nu0.95_lr5e05/loss_optimizer_act_sbV1_50ep_nu0.95_17:31:24.png\n",
      "INFO - Successfully saved fig logs/run_20170814_11_13_42_act_sbV1_50ep_nu0.95_lr5e05/train_step_loss_map_act_sbV1_50ep_nu0.95.png\n",
      "INFO - Successfully saved fig logs/run_20170814_11_13_42_act_sbV1_50ep_nu0.95_lr5e05/T_dist_train.png\n",
      "INFO - Successfully saved fig logs/run_20170814_11_13_42_act_sbV1_50ep_nu0.95_lr5e05/eval_step_loss_map_act_sbV1_50ep_nu0.95.png\n",
      "INFO - Successfully saved fig logs/run_20170814_11_13_42_act_sbV1_50ep_nu0.95_lr5e05/train_step_map_qts_act_sbV1_50ep_nu0.95.png\n",
      "INFO - Successfully saved fig logs/run_20170814_11_13_42_act_sbV1_50ep_nu0.95_lr5e05/train_step_map_halting_act_sbV1_50ep_nu0.95.png\n",
      "INFO - Successfully saved fig logs/run_20170814_11_13_42_act_sbV1_50ep_nu0.95_lr5e05/qt_values_train_act_sbV1_50ep_nu0.95.png\n",
      "INFO - Successfully saved fig logs/run_20170814_11_13_42_act_sbV1_50ep_nu0.95_lr5e05/halting_step_stats.png\n",
      "INFO - Successfully saved fig logs/run_20170814_11_13_42_act_sbV1_50ep_nu0.95_lr5e05/T_dist_eval.png\n",
      "INFO - Successfully saved fig logs/run_20170814_11_13_42_act_sbV1_50ep_nu0.95_lr5e05/qt_values_eval_act_sbV1_50ep_nu0.95.png\n",
      "INFO - Successfully saved fig logs/run_20170814_11_13_42_act_sbV1_50ep_nu0.95_lr5e05/eval_step_map_qts_act_sbV1_50ep_nu0.95.png\n",
      "INFO - Successfully saved fig logs/run_20170814_11_13_42_act_sbV1_50ep_nu0.95_lr5e05/eval_step_map_halting_act_sbV1_50ep_nu0.95.png\n"
     ]
    }
   ],
   "source": [
    "experiments[3].generate_figures()"
   ]
  }
 ],
 "metadata": {
  "kernelspec": {
   "display_name": "Python 2",
   "language": "python",
   "name": "python2"
  },
  "language_info": {
   "codemirror_mode": {
    "name": "ipython",
    "version": 2
   },
   "file_extension": ".py",
   "mimetype": "text/x-python",
   "name": "python",
   "nbconvert_exporter": "python",
   "pygments_lexer": "ipython2",
   "version": "2.7.13"
  }
 },
 "nbformat": 4,
 "nbformat_minor": 0
}
