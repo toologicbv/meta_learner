{
 "cells": [
  {
   "cell_type": "code",
   "execution_count": 1,
   "metadata": {
    "collapsed": false
   },
   "outputs": [],
   "source": [
    "import sys\n",
    "sys.path.insert(0, \"/home/jogi/git/repository/meta_learner\")\n",
    "if \"/home/jogi/.local/lib/python2.7/site-packages\" in sys.path:\n",
    "    sys.path.remove(\"/home/jogi/.local/lib/python2.7/site-packages\")\n",
    "\n",
    "import matplotlib\n",
    "import matplotlib.pyplot as plt\n",
    "# from mpl_toolkits.mplot3d import Axes3D\n",
    "from matplotlib import cm\n",
    "%matplotlib inline\n",
    "\n",
    "from datetime import datetime\n",
    "from pytz import timezone\n",
    "import itertools\n",
    "import copy\n",
    "\n",
    "import numpy as np\n",
    "import torch\n",
    "from torch.autograd import Variable\n",
    "import torch.nn as nn\n",
    "import torch.nn.functional as F\n",
    "import torch.optim as optim\n",
    "from torch.nn import init\n",
    "\n",
    "import numpy as np\n",
    "import dill\n",
    "import os\n",
    "from collections import OrderedDict\n",
    "\n",
    "\n",
    "from utils.experiment import Experiment\n",
    "from utils.common import get_model, create_def_argparser, create_logger, softmax, default_mlp_architecture\n",
    "from utils.common import test40_mlp_architecture, testRELU_mlp_architecture, two_layer_mlp_architecture\n",
    "from utils.plots import loss_plot, param_error_plot, plot_qt_probs, plot_dist_optimization_steps\n",
    "from utils.plots import plot_actsb_qts, plot_image_map_data, plot_image_map_losses\n",
    "from utils.plots import plot_loss_over_tsteps, plot_halting_step_stats_with_loss, plot_loss_versus_halting_step\n",
    "from utils.probs import TimeStepsDist, ConditionalTimeStepDist\n",
    "from utils.config import config\n",
    "from val_optimizer import validate_optimizer\n",
    "from utils.mlp import MLP\n",
    "from utils.regression import RegressionFunction, L2LQuadratic, RegressionWithStudentT\n",
    "from utils.helper import tensor_and, tensor_any\n",
    "from utils.batch_handler import ACTBatchHandler\n",
    "from utils.epoch import Epoch, halting_step_stats\n",
    "from models.rnn_optimizer import MetaLearner, AdaptiveMetaLearnerV1, AdaptiveMetaLearnerV2\n",
    "from models.sb_act_optimizer import StickBreakingACTBaseModel\n",
    "\n",
    "from utils.regression import RegressionFunction, L2LQuadratic, neg_log_likelihood_loss, RosenBrock\n",
    "from utils.regression import RegressionWithStudentT\n",
    "\n",
    "%load_ext autoreload\n",
    "%autoreload 2"
   ]
  },
  {
   "cell_type": "code",
   "execution_count": 2,
   "metadata": {
    "collapsed": false
   },
   "outputs": [],
   "source": [
    "expers_to_load = [# Meta V1 model MLP\n",
    "                  (False, \"run_20170912_10_29_58_metaV1_13ep_50ops_lr1e05\"),\n",
    "                  (True, \"run_20170912_12_08_46_metaV1_13ep_100ops_lr1e05\"),\n",
    "                  (False, \"run_20170912_10_03_57_metaV7_12ep_100ops_lr1e05\"), # with curriculum learning\n",
    "                  # Graves ACT\n",
    "                  (True, \"run_20170912_12_45_41_act_gravesV1_5ep_tau0.003_retrain_lr6e04\"),\n",
    "                  (False, \"run_20170912_10_51_52_act_gravesV1_10ep_tau0.002_lr6e04\"), \n",
    "                  (True, \"run_20170912_10_13_37_act_gravesV1_10ep_tau0.0015_lr6e04\")] \n",
    "\n"
   ]
  },
  {
   "cell_type": "code",
   "execution_count": 3,
   "metadata": {
    "collapsed": false,
    "scrolled": false
   },
   "outputs": [
    {
     "name": "stderr",
     "output_type": "stream",
     "text": [
      "INFO - created local logger for experiment with model metaV1_mlp_100ops\n",
      "INFO - INFO - loaded existing model from file logs/run_20170912_12_08_46_metaV1_13ep_100ops_lr1e05/metaV1_mlp_100ops.pkl\n",
      "INFO - Note: MetaLearner is running on GPU\n",
      "INFO - ['linear1.weight', 'linear1.bias', 'lstms.0.fc_i2h.weight', 'lstms.0.fc_i2h.bias', 'lstms.0.fc_h2h.weight', 'lstms.0.fc_h2h.bias', 'lstms.1.fc_i2h.weight', 'lstms.1.fc_i2h.bias', 'lstms.1.fc_h2h.weight', 'lstms.1.fc_h2h.bias', 'linear_out.weight']\n"
     ]
    },
    {
     "name": "stdout",
     "output_type": "stream",
     "text": [
      "0 Loading model metaV1_mlp_100ops / run_20170912_12_08_46_metaV1_13ep_100ops_lr1e05\n"
     ]
    },
    {
     "name": "stderr",
     "output_type": "stream",
     "text": [
      "INFO - created local logger for experiment with model act_gravesV1_mlp_tau0.003\n",
      "INFO - INFO - loaded existing model from file logs/run_20170912_12_45_41_act_gravesV1_5ep_tau0.003_retrain_lr6e04/act_gravesV1_mlp_tau0.003.pkl\n",
      "INFO - Note: StickBreakingACTBaseModel is running on GPU\n",
      "INFO - ['linear_in.weight', 'linear_in.bias', 'lstms.0.fc_i2h.weight', 'lstms.0.fc_i2h.bias', 'lstms.0.fc_h2h.weight', 'lstms.0.fc_h2h.bias', 'lstms.1.fc_i2h.weight', 'lstms.1.fc_i2h.bias', 'lstms.1.fc_h2h.weight', 'lstms.1.fc_h2h.bias', 'theta_linear_out.weight', 'rho_linear_out.weight', 'rho_linear_out.bias']\n"
     ]
    },
    {
     "name": "stdout",
     "output_type": "stream",
     "text": [
      "1 Loading model act_gravesV1_mlp_tau0.003 (q-prob 0.90) / run_20170912_12_45_41_act_gravesV1_5ep_tau0.003_retrain_lr6e04\n"
     ]
    },
    {
     "name": "stderr",
     "output_type": "stream",
     "text": [
      "INFO - created local logger for experiment with model act_gravesV1_mlp_tau0.0015\n",
      "INFO - INFO - loaded existing model from file logs/run_20170912_10_13_37_act_gravesV1_10ep_tau0.0015_lr6e04/act_gravesV1_mlp_tau0.0015.pkl\n",
      "INFO - Note: StickBreakingACTBaseModel is running on GPU\n",
      "INFO - ['linear_in.weight', 'linear_in.bias', 'lstms.0.fc_i2h.weight', 'lstms.0.fc_i2h.bias', 'lstms.0.fc_h2h.weight', 'lstms.0.fc_h2h.bias', 'lstms.1.fc_i2h.weight', 'lstms.1.fc_i2h.bias', 'lstms.1.fc_h2h.weight', 'lstms.1.fc_h2h.bias', 'theta_linear_out.weight', 'rho_linear_out.weight', 'rho_linear_out.bias']\n"
     ]
    },
    {
     "name": "stdout",
     "output_type": "stream",
     "text": [
      "2 Loading model act_gravesV1_mlp_tau0.0015 (q-prob 0.90) / run_20170912_10_13_37_act_gravesV1_10ep_tau0.0015_lr6e04\n"
     ]
    }
   ],
   "source": [
    "## IMPORTANT ---- NUMBER OF STEPS FOR TEST EVALUATION\n",
    "MAX_EVAL_STEPS = 35\n",
    "\n",
    "without_models = False\n",
    "\n",
    "experiments = []\n",
    "models = []\n",
    "new_experiments = []\n",
    "explogger = None\n",
    "m = 0\n",
    "if 'logger' in vars() or 'logger' in globals():\n",
    "    pass\n",
    "else:\n",
    "    logger = create_logger(exper=None, file_handler=True, output_dir=\"/home/jogi/git/repository/meta_learner/logs\")\n",
    "\n",
    "for e, exp_path in enumerate(expers_to_load):\n",
    "    if exp_path[0]:\n",
    "        \n",
    "        exp = Experiment.load(exp_path[1], do_log=True, meta_logger=logger)\n",
    "            \n",
    "        if \"act\" in exp.args.model:\n",
    "            print(\"{} Loading model {} (q-prob {:.2f}) / {}\".format(m, exp.args.model, \n",
    "                                                                    exp.config.ptT_shape_param,\n",
    "                                                                    exp.args.log_dir))\n",
    "        else:\n",
    "            print(\"{} Loading model {} / {}\".format(m, exp.args.model, exp.args.log_dir))\n",
    "        \n",
    "        experiments.append(exp)\n",
    "        m += 1\n",
    "        if not without_models:\n",
    "            num_inputs = 1\n",
    "            if exp.args.problem == 'mlp':\n",
    "                num_inputs = 3\n",
    "            models.append(get_model(exp, num_inputs, retrain=True))\n",
    "        new_experiments.append(Experiment(exp.args, exp.config, set_seed=True))\n",
    "        new_experiments[-1].batch_handler_class = experiments[-1].batch_handler_class\n",
    "        new_experiments[-1].output_dir = experiments[-1].output_dir\n",
    "        new_experiments[-1].reset_val_stats()\n",
    "        new_experiments[-1].meta_logger = logger\n",
    "        new_experiments[-1].validation_handler_class = experiments[-1].validation_handler_class\n"
   ]
  },
  {
   "cell_type": "code",
   "execution_count": 4,
   "metadata": {
    "collapsed": false
   },
   "outputs": [
    {
     "name": "stdout",
     "output_type": "stream",
     "text": [
      "Loading experiment run_20170912_12_08_46_metaV1_13ep_100ops_lr1e05 / path run_20170912_12_08_46_metaV1_13ep_100ops_lr1e05/exp_eval_stats_2layer_50_100steps.dll\n",
      "Loading experiment run_20170912_12_45_41_act_gravesV1_5ep_tau0.003_retrain_lr6e04 / path run_20170912_12_45_41_act_gravesV1_5ep_tau0.003_retrain_lr6e04/exp_eval_stats_2layer_50_100steps.dll\n",
      "Loading experiment run_20170912_10_13_37_act_gravesV1_10ep_tau0.0015_lr6e04 / path run_20170912_10_13_37_act_gravesV1_10ep_tau0.0015_lr6e04/exp_eval_stats_2layer_50_100steps.dll\n",
      "Ready\n"
     ]
    }
   ],
   "source": [
    "del new_experiments\n",
    "new_experiments = []\n",
    "unrolled_steps=100\n",
    "\n",
    "for exper in expers_to_load:\n",
    "    if exper[0]:\n",
    "        \n",
    "        path_to_exp = exper[1] + \"/\" + \"exp_eval_stats_2layer_50_\" + str(unrolled_steps) +\"steps.dll\"\n",
    "        print(\"Loading experiment {} / path {}\".format(exper[1], path_to_exp))\n",
    "        new_experiments.append(Experiment.load(path_to_exp=path_to_exp,\n",
    "                                               full_path=True))\n",
    "        if new_experiments[-1].meta_logger is None:\n",
    "            new_experiments[-1].meta_logger = logger\n",
    "print(\"Ready\")"
   ]
  },
  {
   "cell_type": "code",
   "execution_count": 4,
   "metadata": {
    "collapsed": false
   },
   "outputs": [
    {
     "name": "stdout",
     "output_type": "stream",
     "text": [
      "Ready\n"
     ]
    }
   ],
   "source": [
    "with open(\"data/test_default_mlp_50.dll\", 'rb') as f:\n",
    "     test_funcs = dill.load(f)\n",
    "print(\"Ready\")"
   ]
  },
  {
   "cell_type": "code",
   "execution_count": 11,
   "metadata": {
    "collapsed": false
   },
   "outputs": [
    {
     "name": "stdout",
     "output_type": "stream",
     "text": [
      "Ready\n"
     ]
    }
   ],
   "source": [
    "\"\"\"\n",
    "        NOTE 2 LAYER TEST MLPs!!!!!!!!!!!!!!!!!!!!!!!!!!!\n",
    "\"\"\"\n",
    "with open(\"data/test_2layer_mlp_50.dll\", 'rb') as f:\n",
    "     test_funcs = dill.load(f)\n",
    "print(\"Ready\")"
   ]
  },
  {
   "cell_type": "code",
   "execution_count": 6,
   "metadata": {
    "collapsed": false,
    "scrolled": false
   },
   "outputs": [
    {
     "name": "stdout",
     "output_type": "stream",
     "text": [
      "INFO - Successfully saved fig figures/mlp_2layer_100unroll_metaV1_act_graves_0_100.png\n"
     ]
    },
    {
     "data": {
      "image/png": "[encoded data removed]",
      "text/plain": [
       "<matplotlib.figure.Figure at 0x7f5283fe2810>"
      ]
     },
     "metadata": {},
     "output_type": "display_data"
    }
   ],
   "source": [
    "some_experiments=[new_experiments[0], new_experiments[1], new_experiments[2]] \n",
    "best_val_runs, lowest_value = plot_loss_over_tsteps(some_experiments, do_show=True, \n",
    "                                              do_save=True, \n",
    "                                              plot_best=False,\n",
    "                                              fig_name=\"mlp_2layer_100unroll_metaV1_act_graves_0_100\", \n",
    "                                              loss_type=\"loss\",\n",
    "                                              min_step=0,\n",
    "                                              max_step=100,\n",
    "                                              sort_exper=\"MLP (2-layer/20units)\",\n",
    "                                              log_scale=True,\n",
    "                                              y_lim=[0.4, 2.4],\n",
    "                                              with_stddev=False,\n",
    "                                              runID=None)"
   ]
  },
  {
   "cell_type": "code",
   "execution_count": null,
   "metadata": {
    "collapsed": false
   },
   "outputs": [],
   "source": [
    "loss_plot(experiments[1], loss_type=\"opt_loss\", save=True, show=True, \n",
    "          log_scale=False, validation=True, only_val=False)"
   ]
  },
  {
   "cell_type": "code",
   "execution_count": null,
   "metadata": {
    "collapsed": false,
    "scrolled": false
   },
   "outputs": [],
   "source": [
    "# exp_error_curves = [experiments[0],  experiments[3]]\n",
    "for exp, mdl in zip(experiments, models):\n",
    "    print(mdl.name)\n",
    "    loss_plot(exp, loss_type=\"loss\", save=False, validation=True, show=True)\n"
   ]
  },
  {
   "cell_type": "code",
   "execution_count": null,
   "metadata": {
    "collapsed": false,
    "scrolled": false
   },
   "outputs": [],
   "source": [
    "# eval_new_val_expers = [new_experiments[0], new_experiments[3]] #, new_experiments[5]]\n",
    "\n",
    "best_val_runs, lowest_value = plot_val_result(new_experiments, \n",
    "                                              do_show=True, \n",
    "                                              do_save=True, \n",
    "                                              plot_best=False,\n",
    "                                              loss_type=\"loss\",\n",
    "                                              fig_name=\"expv5_val_results_1000_loss_10ops\")"
   ]
  },
  {
   "cell_type": "code",
   "execution_count": null,
   "metadata": {
    "collapsed": false,
    "scrolled": false
   },
   "outputs": [],
   "source": [
    "# eval_expers = new_exp_only = [experiments[0], experiments[1], experiments[2]]\n",
    "plot_parm_loss_steps(experiments, num_of_plots=4, do_show=True, \n",
    "                     do_save=False, loss_type=\"loss\", log_scale=False, max_step=20,\n",
    "                    fig_name=\"metaV2_val_loss_during_training\")"
   ]
  },
  {
   "cell_type": "code",
   "execution_count": 14,
   "metadata": {
    "collapsed": false,
    "scrolled": false
   },
   "outputs": [
    {
     "name": "stdout",
     "output_type": "stream",
     "text": [
      "Validating model act_gravesV1_mlp_tau0.0015 \n"
     ]
    },
    {
     "name": "stderr",
     "output_type": "stream",
     "text": [
      "INFO - Epoch: 400 - Evaluating 50 test functions\n",
      "INFO - Epoch: 400 - evaluation result - time step losses\n",
      "INFO - [ 2.348  2.309  2.273  2.249  2.234  2.209  2.194  2.16   2.131  2.076\n",
      "  2.032  1.962  1.909  1.844  1.771  1.712  1.638  1.575  1.502  1.422\n",
      "  1.351  1.308  1.245  1.186  1.132  1.092  1.033  1.     0.965  0.909\n",
      "  0.894  0.882  0.868  0.848  0.822  0.812  0.783  0.77   0.747  0.738\n",
      "  0.715  0.714  0.706  0.718  0.691  0.701  0.705  0.673  0.687  0.696\n",
      "  0.662  0.665  0.668  0.641  0.656  0.652  0.638  0.643  0.642  0.607\n",
      "  0.635  0.617  0.624  0.643  0.61   0.601  0.596  0.608  0.623  0.618\n",
      "  0.601  0.612  0.603  0.57   0.593  0.625  0.588  0.571  0.594  0.601\n",
      "  0.592  0.584  0.58   0.572  0.572  0.56   0.58   0.563  0.555  0.561\n",
      "  0.559  0.558  0.56   0.556  0.545  0.534  0.563  0.535  0.568  0.551\n",
      "  0.577]\n",
      "INFO - ! - Validation last step 100 - !\n",
      "INFO - Epoch: 400 - evaluation - halting step distribution\n",
      "INFO - [ 0  0  0  0  0  0  0  0  0  0  0  0  0  0  0  0  0  0  0  0  0  0  0  0  0\n",
      "  0  0  0  0  0  0  0  0  0  0  0  0  0  0  0  0  0  0  0  0  0  0  0  0  0\n",
      "  0  0  0  0  0  0  0  0  0  0  0  0  0  0  0  0  0  0  0  0  0  0  0  0  0\n",
      "  0  0  0  0  0  0  0  0  0  0  0  0  0  0  0  0  0  0  0  0  0  0  0  0 50]\n",
      "INFO - Epoch: 400 - evaluation - Average number of optimization steps 100.000 stddev 0.000 median 100 sum-steps 5000\n",
      "INFO - Epoch: 400 - End test evaluation (elapsed time 90.87 sec) avg act loss/kl-term/penalty 0.838/0.1501/0.0000\n",
      "INFO - Epoch: 400 - End test evaluation - Avg accuracy 84.766\n",
      "INFO - Epoch: 400 - Successfully saved model to logs/run_20170912_10_13_37_act_gravesV1_10ep_tau0.0015_lr6e04/act_gravesV1_mlp_tau0.0015_eval_run400.pkl\n",
      "INFO - Epoch: 400 - Saving experimental details to logs/run_20170912_10_13_37_act_gravesV1_10ep_tau0.0015_lr6e04/exp_eval_stats_2layer_50_100steps.dll\n"
     ]
    },
    {
     "name": "stdout",
     "output_type": "stream",
     "text": [
      "End....\n"
     ]
    }
   ],
   "source": [
    "exp_idx = 3\n",
    "model = models[exp_idx]\n",
    "\n",
    "max_steps = 100\n",
    "# new_experiments[exp_idx].model_path\n",
    "\n",
    "new_experiments[exp_idx].epoch = 400\n",
    "new_experiments[exp_idx].config.max_val_opt_steps = max_steps\n",
    "new_experiments[exp_idx].config.T = max_steps\n",
    "new_experiments[exp_idx].meta_logger = logger\n",
    "\n",
    "epoch_obj = Epoch()\n",
    "epoch_obj.start(new_experiments[exp_idx])\n",
    "print(\"Validating model {} \".format(model.name))\n",
    "new_experiments[exp_idx].eval(epoch_obj, model, functions=test_funcs, save_run=None, save_model=False)\n",
    "print(\"End....\")\n",
    "new_experiments[exp_idx].save(\"exp_eval_stats_2layer_50_\"+str(max_steps) + \"steps.dll\")"
   ]
  },
  {
   "cell_type": "code",
   "execution_count": 13,
   "metadata": {
    "collapsed": false
   },
   "outputs": [
    {
     "data": {
      "text/plain": [
       "(80,)"
      ]
     },
     "execution_count": 13,
     "metadata": {},
     "output_type": "execute_result"
    }
   ],
   "source": [
    "new_experiments[2].val_stats[\"qt_hist\"][400].shape"
   ]
  },
  {
   "cell_type": "code",
   "execution_count": 9,
   "metadata": {
    "collapsed": false
   },
   "outputs": [],
   "source": [
    "X = np.vstack(new_experiments[2].val_stats[\"halt_step_funcs\"].values())"
   ]
  },
  {
   "cell_type": "code",
   "execution_count": null,
   "metadata": {
    "collapsed": false,
    "scrolled": false
   },
   "outputs": [],
   "source": [
    "exp_idx = 1\n",
    "max_steps = 60\n",
    "new_experiments[exp_idx].epoch = 400\n",
    "new_experiments[exp_idx].config.max_val_opt_steps = max_steps\n",
    "new_experiments[exp_idx].config.T = max_steps\n",
    "new_experiments[exp_idx].config.qt_threshold = 0.95\n",
    "new_experiments[exp_idx].reset_val_stats()\n",
    "if new_experiments[exp_idx].meta_logger is None:\n",
    "    new_experiments[exp_idx].meta_logger = logger\n",
    "# the same object for the validation data\n",
    "model = models[exp_idx]\n",
    "model.opt_step_hist_val = np.zeros(new_experiments[exp_idx].config.max_val_opt_steps)\n",
    "model.qt_hist_val = OrderedDict([(i, np.zeros(i)) \n",
    "                                 for i in np.arange(1, new_experiments[exp_idx].config.max_val_opt_steps + 1)])\n",
    "print(\"Validating model {} with q-prob {:.3f}\".format(model.name, experiments[exp_idx].config.ptT_shape_param))\n",
    "\n",
    "if \"act\" in model.name:\n",
    "    model.init_qt_statistics(new_experiments[exp_idx].config)\n",
    "\n",
    "validate_optimizer(model, new_experiments[exp_idx], explogger, val_set=test_funcs, \n",
    "                   max_steps=max_steps, verbose=False, plot_func=False, show_plot=False, save_plot=False,\n",
    "                   num_of_plots=5, save_model=False, save_qt_prob_funcs=False, \n",
    "                   save_run=\"exp_eval_stats_10000_\"+str(max_steps) + \"steps\")\n",
    "new_experiments[exp_idx].save(\"exp_eval_stats_50_\"+str(max_steps) + \"steps.dll\")"
   ]
  },
  {
   "cell_type": "code",
   "execution_count": null,
   "metadata": {
    "collapsed": false
   },
   "outputs": [],
   "source": [
    "plot_qt_probs(new_experiments[2], data_set=\"val\", save=True, show=True, \n",
    "              plot_prior=False, height=20, width=20, add_info=True)"
   ]
  },
  {
   "cell_type": "code",
   "execution_count": null,
   "metadata": {
    "collapsed": false
   },
   "outputs": [],
   "source": [
    "from utils.plots import create_exper_label\n",
    "num_of_plots = 13\n",
    "T0 = 23\n",
    "fig = plt.figure(figsize=(8, 25))\n",
    "\n",
    "for i in range(1, num_of_plots+1):\n",
    "    T = T0+i\n",
    "    index = np.arange(1, T+1).astype(int)\n",
    "    qt = exper.val_stats[\"qt_hist\"][30][T]\n",
    "    ax1 = plt.subplot(num_of_plots, 1, i)\n",
    "    plt.bar(index, qt, 0.3, label=\"q(t|{})\".format(T))\n",
    "    ax1.legend(loc=\"best\")\n",
    "    \n",
    "fig_name = \"_\" + \"val\" + \"_\" + create_exper_label(exper)\n",
    "fig_name = os.path.join(exper.output_dir, config.qt_dist_prefix + fig_name + \".png\")\n",
    "plt.savefig(fig_name, bbox_inches='tight')\n",
    "plt.close()"
   ]
  },
  {
   "cell_type": "code",
   "execution_count": 41,
   "metadata": {
    "collapsed": false
   },
   "outputs": [
    {
     "name": "stdout",
     "output_type": "stream",
     "text": [
      "INFO - Successfully saved fig logs/run_20170814_17_04_25_metaV1_50ep_100ops_lr3e05/loss_metaV1_50ep_100ops_21:43:29.png\n"
     ]
    },
    {
     "data": {
      "image/png": "[encoded data removed]",
      "text/plain": [
       "<matplotlib.figure.Figure at 0x7fe27172a490>"
      ]
     },
     "metadata": {},
     "output_type": "display_data"
    }
   ],
   "source": [
    "loss_plot(experiments[0], show=True, save=True, validation=False, only_val=False)"
   ]
  },
  {
   "cell_type": "code",
   "execution_count": null,
   "metadata": {
    "collapsed": false,
    "scrolled": false
   },
   "outputs": [],
   "source": [
    "plot_actsb_qts(new_experiments[3], data_set=\"eval\", save=False, show=True, add_info=False, epoch=400, \n",
    "              fig_name=\"qt_dist_test_eval_500steps\")"
   ]
  },
  {
   "cell_type": "code",
   "execution_count": 79,
   "metadata": {
    "collapsed": false
   },
   "outputs": [
    {
     "name": "stdout",
     "output_type": "stream",
     "text": [
      "INFO - Successfully saved fig logs/run_20170815_14_33_06_act_sbV2_50ep_nu0.95_lr5e05/T_dist_eval.png\n"
     ]
    },
    {
     "data": {
      "image/png": "[encoded data removed]",
      "text/plain": [
       "<matplotlib.figure.Figure at 0x7f5eed47e750>"
      ]
     },
     "metadata": {},
     "output_type": "display_data"
    }
   ],
   "source": [
    "plot_dist_optimization_steps(new_experiments[2], data_set=\"eval\", save=True, show=True, epoch=400)"
   ]
  },
  {
   "cell_type": "code",
   "execution_count": null,
   "metadata": {
    "collapsed": false
   },
   "outputs": [],
   "source": [
    "plot_qt_detailed_stats(new_experiments[0], test_funcs, do_save=True, do_show=True, threshold=0.90)"
   ]
  },
  {
   "cell_type": "code",
   "execution_count": 10,
   "metadata": {
    "collapsed": false
   },
   "outputs": [
    {
     "name": "stdout",
     "output_type": "stream",
     "text": [
      "INFO - Successfully saved fig logs/run_20170912_12_45_41_act_gravesV1_5ep_tau0.003_retrain_lr6e04/qt_values_test100steps_unrolled_on_50_MLPs.png\n"
     ]
    },
    {
     "data": {
      "image/png": "[encoded data removed]",
      "text/plain": [
       "<matplotlib.figure.Figure at 0x7f9be1036a90>"
      ]
     },
     "metadata": {},
     "output_type": "display_data"
    }
   ],
   "source": [
    "plot_actsb_qts(new_experiments[2], data_set=\"eval\", fig_name=\"qt_values_test100steps_unrolled_on_50_MLPs\", \n",
    "               height=10, width=6, save=True, show=True)"
   ]
  },
  {
   "cell_type": "code",
   "execution_count": 13,
   "metadata": {
    "collapsed": false
   },
   "outputs": [
    {
     "name": "stdout",
     "output_type": "stream",
     "text": [
      "[  3.65630351e-03   1.84916912e-04   9.33104353e-05   8.50361157e-05\n",
      "   8.70331012e-05   9.06707076e-05   9.40058504e-05   9.69976571e-05\n",
      "   9.92323883e-05   1.00854094e-04   1.02118591e-04   1.03125207e-04\n",
      "   1.03868822e-04   1.04320486e-04   1.04814149e-04   1.04993316e-04\n",
      "   1.05150936e-04   1.05194303e-04   1.05260240e-04   1.05393523e-04\n",
      "   1.05216987e-04   1.05155792e-04   1.05016322e-04   1.04825388e-04\n",
      "   1.04688246e-04   1.04511981e-04   1.04314384e-04   1.04116437e-04\n",
      "   1.04079920e-04   1.03815757e-04   1.03777659e-04   1.03535153e-04\n",
      "   1.03359816e-04   1.03177663e-04   1.03067626e-04   1.02909697e-04\n",
      "   1.02719454e-04   1.02659013e-04   1.02464941e-04   1.02341251e-04\n",
      "   1.02321885e-04   1.02276380e-04   1.02070561e-04   1.02027146e-04\n",
      "   1.01969414e-04   1.01914322e-04   1.01720925e-04   1.01649173e-04\n",
      "   1.01546593e-04   1.01541136e-04   1.01443267e-04   1.01338988e-04\n",
      "   1.01332827e-04   1.01253529e-04   1.01199025e-04   1.01140946e-04\n",
      "   1.01142068e-04   1.01078110e-04   1.01095149e-04   1.01046945e-04\n",
      "   1.01052263e-04   1.00929731e-04   1.00879798e-04   1.00770393e-04\n",
      "   1.00806897e-04   1.00777852e-04   1.00820734e-04   1.00678867e-04\n",
      "   1.00675142e-04   1.00678618e-04   1.00636575e-04   1.00692928e-04\n",
      "   1.00649143e-04   1.00680743e-04   1.00554369e-04   1.00602220e-04\n",
      "   1.00539861e-04   1.00523628e-04   1.00568189e-04   1.00611552e-04\n",
      "   1.00671163e-04   1.00486003e-04   1.00447130e-04   1.00406548e-04\n",
      "   1.00310895e-04   1.00268226e-04   1.00423532e-04   1.00351252e-04\n",
      "   1.00350121e-04   1.00386719e-04   1.00329106e-04   1.00357661e-04\n",
      "   1.00448810e-04   1.00275467e-04   1.00355140e-04   1.00417430e-04\n",
      "   1.00414981e-04   1.00229739e-04   1.00383974e-04   9.86339094e-01]\n"
     ]
    }
   ],
   "source": [
    "print(new_experiments[2].val_stats[\"qt_hist\"][400])"
   ]
  },
  {
   "cell_type": "code",
   "execution_count": null,
   "metadata": {
    "collapsed": false
   },
   "outputs": [],
   "source": [
    "from mpl_toolkits.mplot3d import Axes3D\n",
    "from matplotlib import cm\n",
    "from matplotlib.ticker import LinearLocator, FormatStrFormatter\n",
    "\n",
    "fig = plt.figure(figsize=(8, 6))\n",
    "ax = fig.gca(projection='3d')\n",
    "\n",
    "s = 0.05   # Try s=1, 0.25, 0.1, or 0.05\n",
    "X = np.arange(-1.2, 4+s, s)   #Could use linspace instead if dividing\n",
    "Y = np.arange(10, 13+s, s)   #evenly instead of stepping...\n",
    "    \n",
    "#Create the mesh grid(s) for all X/Y combos.\n",
    "X, Y = np.meshgrid(X, Y)\n",
    "\n",
    "#Rosenbrock function w/ two parameters using numpy Arrays\n",
    "Z = (3.5-X)**2 + 100.*(Y-X*X)**2\n",
    "\n",
    "surf = ax.plot_surface(X, Y, Z, rstride=1, cstride=1, cmap=cm.coolwarm,\n",
    "         linewidth=0, antialiased=False)  #Try coolwarm vs jet\n",
    "\n",
    "plt.xlabel('x')\n",
    "plt.ylabel('y')\n",
    "# ax.zaxis.set_major_locator(LinearLocator(10))\n",
    "# ax.zaxis.set_major_formatter(FormatStrFormatter('%.02f'))\n",
    "\n",
    "fig.colorbar(surf, shrink=0.5, aspect=5)\n",
    "\n",
    "#Displays the figure, handles user interface, returns when user closes window\n",
    "plt.show()"
   ]
  },
  {
   "cell_type": "code",
   "execution_count": 5,
   "metadata": {
    "collapsed": false
   },
   "outputs": [
    {
     "name": "stdout",
     "output_type": "stream",
     "text": [
      "Ready\n"
     ]
    }
   ],
   "source": [
    "\"\"\"\n",
    "    Generate new test functions\n",
    "\"\"\"\n",
    "test_funcs = RegressionWithStudentT(n_funcs=10000, n_samples=10, x_dim=10, scale_p=1., shape_p=1, use_cuda=True)\n",
    "with open(\"data/test_regression_T_10000_10_1.0_10.dll\", 'wb') as f:\n",
    "     dill.dump(test_funcs, f)\n",
    "print(\"Ready\")\n"
   ]
  },
  {
   "cell_type": "code",
   "execution_count": 5,
   "metadata": {
    "collapsed": false
   },
   "outputs": [
    {
     "name": "stdout",
     "output_type": "stream",
     "text": [
      "Ready\n"
     ]
    }
   ],
   "source": [
    "# two_layer_mlp_architecture, default_mlp_architecture\n",
    "\n",
    "test_funcs = []\n",
    "num_of_funcs = 50\n",
    "for _ in np.arange(num_of_funcs):\n",
    "    test_funcs.append(MLP(default_mlp_architecture))\n",
    "with open(\"data/test_default_mlp_\" + str(num_of_funcs) + \".dll\", 'wb') as f:\n",
    "     dill.dump(test_funcs, f)\n",
    "print(\"Ready\")"
   ]
  },
  {
   "cell_type": "code",
   "execution_count": 13,
   "metadata": {
    "collapsed": false
   },
   "outputs": [
    {
     "data": {
      "text/plain": [
       "87.109375"
      ]
     },
     "execution_count": 13,
     "metadata": {},
     "output_type": "execute_result"
    }
   ],
   "source": [
    "new_experiments[4].val_stats[\"step_acc\"][400]"
   ]
  },
  {
   "cell_type": "code",
   "execution_count": 5,
   "metadata": {
    "collapsed": false
   },
   "outputs": [
    {
     "name": "stdout",
     "output_type": "stream",
     "text": [
      "INFO - Successfully saved fig logs/run_20170912_12_45_41_act_gravesV1_5ep_tau0.003_retrain_lr6e04/loss_train_meta_actV1_5ep_100ops_retrain.png\n",
      "INFO - Successfully saved fig logs/run_20170912_12_45_41_act_gravesV1_5ep_tau0.003_retrain_lr6e04/loss_optimizer_train_meta_actV1_5ep_100ops_retrain.png\n",
      "INFO - Successfully saved fig logs/run_20170912_12_45_41_act_gravesV1_5ep_tau0.003_retrain_lr6e04/loss_eval_meta_actV1_5ep_100ops_retrain.png\n",
      "INFO - Successfully saved fig logs/run_20170912_12_45_41_act_gravesV1_5ep_tau0.003_retrain_lr6e04/loss_optimizer_eval_meta_actV1_5ep_100ops_retrain.png\n",
      "INFO - Successfully saved fig logs/run_20170912_12_45_41_act_gravesV1_5ep_tau0.003_retrain_lr6e04/train_step_loss_map_meta_actV1_5ep_100ops_retrain.png\n",
      "INFO - Successfully saved fig logs/run_20170912_12_45_41_act_gravesV1_5ep_tau0.003_retrain_lr6e04/T_dist_train.png\n",
      "INFO - Successfully saved fig logs/run_20170912_12_45_41_act_gravesV1_5ep_tau0.003_retrain_lr6e04/gradient_statistics.png\n",
      "INFO - Successfully saved fig logs/run_20170912_12_45_41_act_gravesV1_5ep_tau0.003_retrain_lr6e04/eval_step_loss_map_meta_actV1_5ep_100ops_retrain.png\n",
      "INFO - Successfully saved fig logs/run_20170912_12_45_41_act_gravesV1_5ep_tau0.003_retrain_lr6e04/train_step_map_qts_meta_actV1_5ep_100ops_retrain.png\n",
      "INFO - Successfully saved fig logs/run_20170912_12_45_41_act_gravesV1_5ep_tau0.003_retrain_lr6e04/train_step_map_halting_meta_actV1_5ep_100ops_retrain.png\n",
      "INFO - Successfully saved fig logs/run_20170912_12_45_41_act_gravesV1_5ep_tau0.003_retrain_lr6e04/qt_values_train_meta_actV1_5ep_100ops_retrain.png\n",
      "INFO - Successfully saved fig logs/run_20170912_12_45_41_act_gravesV1_5ep_tau0.003_retrain_lr6e04/halting_step_stats.png\n",
      "INFO - Successfully saved fig logs/run_20170912_12_45_41_act_gravesV1_5ep_tau0.003_retrain_lr6e04/T_dist_eval.png\n",
      "INFO - Successfully saved fig logs/run_20170912_12_45_41_act_gravesV1_5ep_tau0.003_retrain_lr6e04/qt_values_eval_meta_actV1_5ep_100ops_retrain.png\n",
      "INFO - Successfully saved fig logs/run_20170912_12_45_41_act_gravesV1_5ep_tau0.003_retrain_lr6e04/eval_step_map_qts_meta_actV1_5ep_100ops_retrain.png\n",
      "INFO - Successfully saved fig logs/run_20170912_12_45_41_act_gravesV1_5ep_tau0.003_retrain_lr6e04/eval_step_map_halting_meta_actV1_5ep_100ops_retrain.png\n"
     ]
    }
   ],
   "source": [
    "experiments[2].generate_figures()"
   ]
  }
 ],
 "metadata": {
  "kernelspec": {
   "display_name": "Python 2",
   "language": "python",
   "name": "python2"
  },
  "language_info": {
   "codemirror_mode": {
    "name": "ipython",
    "version": 2
   },
   "file_extension": ".py",
   "mimetype": "text/x-python",
   "name": "python",
   "nbconvert_exporter": "python",
   "pygments_lexer": "ipython2",
   "version": "2.7.13"
  }
 },
 "nbformat": 4,
 "nbformat_minor": 0
}
