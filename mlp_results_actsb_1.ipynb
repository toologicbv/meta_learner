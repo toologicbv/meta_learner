{
 "cells": [
  {
   "cell_type": "code",
   "execution_count": 1,
   "metadata": {
    "collapsed": false
   },
   "outputs": [],
   "source": [
    "import sys\n",
    "sys.path.insert(0, \"/home/jogi/git/repository/meta_learner\")\n",
    "if \"/home/jogi/.local/lib/python2.7/site-packages\" in sys.path:\n",
    "    sys.path.remove(\"/home/jogi/.local/lib/python2.7/site-packages\")\n",
    "\n",
    "import matplotlib\n",
    "import matplotlib.pyplot as plt\n",
    "# from mpl_toolkits.mplot3d import Axes3D\n",
    "from matplotlib import cm\n",
    "%matplotlib inline\n",
    "\n",
    "from datetime import datetime\n",
    "from pytz import timezone\n",
    "import itertools\n",
    "import copy\n",
    "\n",
    "import numpy as np\n",
    "import torch\n",
    "from torch.autograd import Variable\n",
    "import torch.nn as nn\n",
    "import torch.nn.functional as F\n",
    "import torch.optim as optim\n",
    "from torch.nn import init\n",
    "\n",
    "import numpy as np\n",
    "import dill\n",
    "import os\n",
    "from collections import OrderedDict\n",
    "\n",
    "\n",
    "from utils.experiment import Experiment\n",
    "from utils.common import get_model, create_def_argparser, create_logger, softmax, default_mlp_architecture\n",
    "from utils.common import test40_mlp_architecture, testRELU_mlp_architecture, two_layer_mlp_architecture\n",
    "from utils.common import compute_total_steps, get_evaluation_step_loss\n",
    "from utils.plots import loss_plot, param_error_plot, plot_qt_probs, plot_dist_optimization_steps\n",
    "from utils.plots import plot_actsb_qts, plot_image_map_data, plot_image_map_losses\n",
    "from utils.plots import plot_loss_over_tsteps, plot_halting_step_stats_with_loss, plot_loss_versus_halting_step\n",
    "from utils.probs import TimeStepsDist, ConditionalTimeStepDist\n",
    "from utils.config import config\n",
    "from val_optimizer import validate_optimizer\n",
    "from utils.mlp import MLP\n",
    "from utils.regression import RegressionFunction, L2LQuadratic, RegressionWithStudentT\n",
    "from utils.helper import tensor_and, tensor_any\n",
    "from utils.batch_handler import ACTBatchHandler\n",
    "from utils.epoch import Epoch, halting_step_stats\n",
    "from models.rnn_optimizer import MetaLearner, AdaptiveMetaLearnerV1, AdaptiveMetaLearnerV2\n",
    "from models.sb_act_optimizer import StickBreakingACTBaseModel\n",
    "\n",
    "from utils.regression import RegressionFunction, L2LQuadratic, neg_log_likelihood_loss, RosenBrock\n",
    "from utils.regression import RegressionWithStudentT\n",
    "\n",
    "%load_ext autoreload\n",
    "%autoreload 2"
   ]
  },
  {
   "cell_type": "code",
   "execution_count": 2,
   "metadata": {
    "collapsed": false
   },
   "outputs": [],
   "source": [
    "expers_to_load = [# Meta V1 model MLP\n",
    "                  (False, \"run_20170912_10_29_58_metaV1_13ep_50ops_lr1e05\"),\n",
    "                  # meta_actV1\n",
    "                  (False, \"run_20171009_12_19_42_meta_actV1_120ep_tau0.002_lr5e05\"),\n",
    "                  (False, \"run_20171009_14_08_29_meta_actV1_125ep_tau0.0004_lr5e05\"),\n",
    "                  (False, \"run_20171009_15_28_10_meta_actV1_125ep_tau0.0001_lr5e05\"),\n",
    "                  (True, \"run_20170913_10_50_36_act_sbV3.2_125ep_nu0.9_lr1e04\")]\n",
    "\n"
   ]
  },
  {
   "cell_type": "code",
   "execution_count": null,
   "metadata": {
    "collapsed": false,
    "scrolled": false
   },
   "outputs": [],
   "source": [
    "## IMPORTANT ---- NUMBER OF STEPS FOR TEST EVALUATION\n",
    "MAX_EVAL_STEPS = 35\n",
    "\n",
    "without_models = False\n",
    "\n",
    "experiments = []\n",
    "models = []\n",
    "new_experiments = []\n",
    "explogger = None\n",
    "m = 0\n",
    "if 'logger' in vars() or 'logger' in globals():\n",
    "    pass\n",
    "else:\n",
    "    logger = create_logger(exper=None, file_handler=True, output_dir=\"/home/jogi/git/repository/meta_learner/logs\")\n",
    "\n",
    "for e, exp_path in enumerate(expers_to_load):\n",
    "    if exp_path[0]:\n",
    "        \n",
    "        exp = Experiment.load(exp_path[1], do_log=True, meta_logger=logger)\n",
    "            \n",
    "        if \"act\" in exp.args.model:\n",
    "            print(\"{} Loading model {} (q-prob {:.2f}) / {}\".format(m, exp.args.model, \n",
    "                                                                    exp.config.ptT_shape_param,\n",
    "                                                                    exp.args.log_dir))\n",
    "        else:\n",
    "            print(\"{} Loading model {} / {}\".format(m, exp.args.model, exp.args.log_dir))\n",
    "        \n",
    "        experiments.append(exp)\n",
    "        m += 1\n",
    "        if not without_models:\n",
    "            num_inputs = 1\n",
    "            if exp.args.problem == 'mlp':\n",
    "                num_inputs = 3\n",
    "            models.append(get_model(exp, num_inputs, retrain=True))\n",
    "        new_experiments.append(Experiment(exp.args, exp.config, set_seed=True))\n",
    "        new_experiments[-1].batch_handler_class = experiments[-1].batch_handler_class\n",
    "        new_experiments[-1].output_dir = experiments[-1].output_dir\n",
    "        new_experiments[-1].reset_val_stats()\n",
    "        new_experiments[-1].meta_logger = logger\n",
    "        new_experiments[-1].validation_handler_class = experiments[-1].validation_handler_class\n",
    "        new_experiments[-1].training_horizon = experiments[-1].config.T\n",
    "        new_experiments[-1].avg_num_opt_steps = experiments[-1].avg_num_opt_steps"
   ]
  },
  {
   "cell_type": "code",
   "execution_count": 7,
   "metadata": {
    "collapsed": false
   },
   "outputs": [
    {
     "name": "stdout",
     "output_type": "stream",
     "text": [
      "Loading experiment run_20170913_14_17_22_metaV1_90ep_100ops_lr9e06 / path run_20170913_14_17_22_metaV1_90ep_100ops_lr9e06/exp_eval_stats_200_200steps.dll\n",
      "Loading experiment run_20170913_10_50_36_act_sbV3.2_125ep_nu0.9_lr1e04 / path run_20170913_10_50_36_act_sbV3.2_125ep_nu0.9_lr1e04/exp_eval_stats_200_200steps.dll\n",
      "Loading experiment run_20170915_16_30_30_act_sbV3.2_125ep_nu0.9kls0.01_lr1e04 / path run_20170915_16_30_30_act_sbV3.2_125ep_nu0.9kls0.01_lr1e04/exp_eval_stats_200_200steps.dll\n",
      "Ready\n"
     ]
    }
   ],
   "source": [
    "del new_experiments\n",
    "new_experiments = []\n",
    "unrolled_steps=200\n",
    "num_of_funcs = 200\n",
    "\n",
    "for exper in expers_to_load:\n",
    "    if exper[0]:\n",
    "        \n",
    "        path_to_exp = exper[1] + \"/\" + \"exp_eval_stats_\" + str(num_of_funcs) + \"_\" + str(unrolled_steps) +\"steps.dll\"\n",
    "        print(\"Loading experiment {} / path {}\".format(exper[1], path_to_exp))\n",
    "        new_experiments.append(Experiment.load(path_to_exp=path_to_exp,\n",
    "                                               full_path=True))\n",
    "        if new_experiments[-1].meta_logger is None:\n",
    "            new_experiments[-1].meta_logger = logger\n",
    "print(\"Ready\")"
   ]
  },
  {
   "cell_type": "code",
   "execution_count": 9,
   "metadata": {
    "collapsed": false
   },
   "outputs": [
    {
     "name": "stdout",
     "output_type": "stream",
     "text": [
      "Ready\n"
     ]
    }
   ],
   "source": [
    "\"\"\"\n",
    "        NOTE 1 LAYER TEST MLPs   OR MIXED MLP   !!!!!!!!!!!!!!!!!!!!!!!!!!!\n",
    "\"\"\"\n",
    "mixed_mlp = True\n",
    "num_of_funcs = 10\n",
    "if mixed_mlp:\n",
    "    file_prefix = \"data/test_mixed_mlp_\"\n",
    "else:\n",
    "    file_prefix = \"data/test_default_mlp_\"\n",
    "    \n",
    "with open(file_prefix + str(num_of_funcs) + \".dll\", 'rb') as f:\n",
    "     test_funcs = dill.load(f)\n",
    "print(\"Ready\")"
   ]
  },
  {
   "cell_type": "code",
   "execution_count": 11,
   "metadata": {
    "collapsed": false
   },
   "outputs": [
    {
     "name": "stdout",
     "output_type": "stream",
     "text": [
      "Ready\n"
     ]
    }
   ],
   "source": [
    "\"\"\"\n",
    "        NOTE 2 LAYER TEST MLPs!!!!!!!!!!!!!!!!!!!!!!!!!!!\n",
    "\"\"\"\n",
    "with open(\"data/test_2layer_mlp_50.dll\", 'rb') as f:\n",
    "     test_funcs = dill.load(f)\n",
    "print(\"Ready\")"
   ]
  },
  {
   "cell_type": "code",
   "execution_count": 10,
   "metadata": {
    "collapsed": false,
    "scrolled": false
   },
   "outputs": [
    {
     "data": {
      "image/png": "[encoded data removed]",
      "text/plain": [
       "<matplotlib.figure.Figure at 0x7fbff92a4190>"
      ]
     },
     "metadata": {},
     "output_type": "display_data"
    }
   ],
   "source": [
    "# some_experiments=[new_experiments[0],new_experiments[2],new_experiments[4]] #,  new_experiments[3]]\n",
    "#                  # new_experiments[5], new_experiments[6]] #   new_experiments[4],\n",
    "\n",
    "part = 1\n",
    "if part == 1:\n",
    "    min_step = 0\n",
    "    max_step = 100\n",
    "    y_lim=[0.4, 2.4]\n",
    "    log_scale  = False\n",
    "elif part == 2:\n",
    "    min_step = 100\n",
    "    max_step = 200\n",
    "    log_scale = True\n",
    "    y_lim=[0.3, 0.6]\n",
    "else:\n",
    "    log_scale = True\n",
    "    min_step = 0\n",
    "    max_step = 100\n",
    "    y_lim=[0.3, 2.4]\n",
    "\n",
    "best_val_runs, lowest_value = plot_loss_over_tsteps(new_experiments, do_show=True, \n",
    "                                              do_save=True, \n",
    "                                              plot_best=False,\n",
    "                                              fig_name=\"mlp_1layer\"\n",
    "                                              loss_type=\"loss\",\n",
    "                                              min_step=min_step,\n",
    "                                              max_step=max_step,\n",
    "                                              sort_exper=\"MLP \",\n",
    "                                              log_scale=log_scale,\n",
    "                                              y_lim=y_lim,\n",
    "                                              with_stddev=False,\n",
    "                                              runID=None)"
   ]
  },
  {
   "cell_type": "code",
   "execution_count": null,
   "metadata": {
    "collapsed": false
   },
   "outputs": [],
   "source": [
    "loss_plot(experiments[1], loss_type=\"opt_loss\", save=True, show=True, \n",
    "          log_scale=False, validation=True, only_val=False)"
   ]
  },
  {
   "cell_type": "code",
   "execution_count": 10,
   "metadata": {
    "collapsed": false,
    "scrolled": false
   },
   "outputs": [
    {
     "name": "stderr",
     "output_type": "stream",
     "text": [
      "INFO - Epoch: 400 - Evaluating 10 test functions\n"
     ]
    },
    {
     "name": "stdout",
     "output_type": "stream",
     "text": [
      "Validating model meta_actV1_mlp_tau0.0001 \n",
      " >>> Optimizing 1 MLP <<<\n",
      "Halt stats [ 52.           1.           1.11344171]\n",
      "Halt stats [ 55.           2.           1.35233653]\n",
      "Halt stats [ 53.           1.           1.19719148]\n",
      "Halt stats [ 55.           2.           1.12810922]\n",
      "Halt stats [ 54.           1.           1.12775004]\n",
      "Halt stats [ 55.          2.          0.9780134]\n",
      "Halt stats [ 54.           1.           1.43920815]\n",
      "Halt stats [ 57.           2.           1.06734872]\n",
      "Halt stats [ 53.           1.           0.65904921]\n"
     ]
    },
    {
     "name": "stderr",
     "output_type": "stream",
     "text": [
      "INFO - Epoch: 400 - evaluation result - time step losses\n",
      "INFO - [ 2.343  2.251  2.199  2.16   2.105  2.06   1.981  1.87   1.805  1.684\n",
      "  1.554  1.473  1.354  1.289  1.265  1.145  1.129  1.072  1.012  0.958\n",
      "  0.986  0.933  0.944  0.911  0.948  0.91   0.929  0.859  0.872  0.877\n",
      "  0.91   0.896  0.891  0.903  0.942  0.873  0.997  0.916  0.958  0.91\n",
      "  0.982  0.981  0.97   1.037  0.964  0.988  1.006  0.992  0.974  0.988\n",
      "  1.096  1.175  1.071  1.065  1.198  1.103  1.01   1.068  1.17   1.235\n",
      "  1.059  1.149  1.165  1.224  1.242  1.177  1.347  1.391  1.261  1.267\n",
      "  1.344  1.512  1.361  1.4    1.413  1.453  1.536  1.463  1.51   1.601\n",
      "  1.671  1.67   1.644  1.62   1.75   1.722  1.81   1.748  1.607  1.749\n",
      "  2.025  1.742  1.953  1.811  2.077  1.931  2.032  2.163  1.991  2.138\n",
      "  1.998]\n",
      "INFO - ! - Validation last step 57 - !\n",
      "INFO - Epoch: 400 - evaluation - halting step distribution\n",
      "INFO - [0 0 0 0 0 0 0 0 0 0 0 0 0 0 0 0 0 0 0 0 0 0 0 0 0 0 0 0 0 0 0 0 0 0 0 0 0\n",
      " 0 0 0 0 0 0 0 0 0 0 0 0 0 0 1 2 2 4 0 1]\n",
      "INFO - Epoch: 400 - evaluation - Average number of optimization steps 54.300 stddev 1.345 median 54 sum-steps 543\n",
      "INFO - Epoch: 400 - End test evaluation (elapsed time 32.30 sec) avg act loss/kl-term/penalty 1.305/0.0054/0.0000\n",
      "INFO - Epoch: 400 - End test evaluation - Avg accuracy 62.500\n",
      "INFO - Epoch: 400 - Successfully saved model to logs/run_20171009_15_28_10_meta_actV1_125ep_tau0.0001_lr5e05/meta_actV1_mlp_tau0.0001_eval_run400.pkl\n",
      "INFO - Epoch: 400 - Saving experimental details to logs/run_20171009_15_28_10_meta_actV1_125ep_tau0.0001_lr5e05/exp_eval_stats_50_100steps.dll\n"
     ]
    },
    {
     "name": "stdout",
     "output_type": "stream",
     "text": [
      "Halt stats [ 55.           2.           1.09523511]\n",
      "End....\n"
     ]
    }
   ],
   "source": [
    "exp_idx = 2\n",
    "model = models[exp_idx]\n",
    "\n",
    "max_steps = 100\n",
    "# new_experiments[exp_idx].model_path\n",
    "\n",
    "new_experiments[exp_idx].epoch = 400\n",
    "new_experiments[exp_idx].config.max_val_opt_steps = max_steps\n",
    "new_experiments[exp_idx].config.T = max_steps\n",
    "new_experiments[exp_idx].meta_logger = logger\n",
    "# backward compatibility...changed the names of the batch-handler for probabilistic model\n",
    "# and Graves model\n",
    "if new_experiments[exp_idx].args.learner == \"act_sb\" and new_experiments[exp_idx].args.learner == \"V3.2\":\n",
    "    new_experiments[exp_idx].batch_handler_class = \"MPACTBatchHandler\"\n",
    "elif new_experiments[exp_idx].args.learner == \"meta_act\":\n",
    "    new_experiments[exp_idx].batch_handler_class = \"MACTBatchHandler\"\n",
    "\n",
    "epoch_obj = Epoch()\n",
    "epoch_obj.start(new_experiments[exp_idx])\n",
    "print(\"Validating model {} \".format(model.name))\n",
    "new_experiments[exp_idx].eval(epoch_obj, model, functions=test_funcs, save_run=None, save_model=False)\n",
    "print(\"End....\")\n",
    "new_experiments[exp_idx].save(\"exp_eval_stats_50_\"+str(max_steps) + \"steps.dll\")"
   ]
  },
  {
   "cell_type": "code",
   "execution_count": 13,
   "metadata": {
    "collapsed": false
   },
   "outputs": [
    {
     "data": {
      "text/plain": [
       "(80,)"
      ]
     },
     "execution_count": 13,
     "metadata": {},
     "output_type": "execute_result"
    }
   ],
   "source": [
    "new_experiments[2].val_stats[\"qt_hist\"][400].shape"
   ]
  },
  {
   "cell_type": "code",
   "execution_count": 9,
   "metadata": {
    "collapsed": false
   },
   "outputs": [],
   "source": [
    "X = np.vstack(new_experiments[2].val_stats[\"halt_step_funcs\"].values())"
   ]
  },
  {
   "cell_type": "code",
   "execution_count": null,
   "metadata": {
    "collapsed": false,
    "scrolled": false
   },
   "outputs": [],
   "source": [
    "exp_idx = 1\n",
    "max_steps = 60\n",
    "new_experiments[exp_idx].epoch = 400\n",
    "new_experiments[exp_idx].config.max_val_opt_steps = max_steps\n",
    "new_experiments[exp_idx].config.T = max_steps\n",
    "new_experiments[exp_idx].config.qt_threshold = 0.95\n",
    "new_experiments[exp_idx].reset_val_stats()\n",
    "if new_experiments[exp_idx].meta_logger is None:\n",
    "    new_experiments[exp_idx].meta_logger = logger\n",
    "# the same object for the validation data\n",
    "model = models[exp_idx]\n",
    "model.opt_step_hist_val = np.zeros(new_experiments[exp_idx].config.max_val_opt_steps)\n",
    "model.qt_hist_val = OrderedDict([(i, np.zeros(i)) \n",
    "                                 for i in np.arange(1, new_experiments[exp_idx].config.max_val_opt_steps + 1)])\n",
    "print(\"Validating model {} with q-prob {:.3f}\".format(model.name, experiments[exp_idx].config.ptT_shape_param))\n",
    "\n",
    "if \"act\" in model.name:\n",
    "    model.init_qt_statistics(new_experiments[exp_idx].config)\n",
    "\n",
    "validate_optimizer(model, new_experiments[exp_idx], explogger, val_set=test_funcs, \n",
    "                   max_steps=max_steps, verbose=False, plot_func=False, show_plot=False, save_plot=False,\n",
    "                   num_of_plots=5, save_model=False, save_qt_prob_funcs=False, \n",
    "                   save_run=\"exp_eval_stats_10000_\"+str(max_steps) + \"steps\")\n",
    "new_experiments[exp_idx].save(\"exp_eval_stats_50_\"+str(max_steps) + \"steps.dll\")"
   ]
  },
  {
   "cell_type": "code",
   "execution_count": null,
   "metadata": {
    "collapsed": false
   },
   "outputs": [],
   "source": [
    "plot_qt_probs(new_experiments[2], data_set=\"val\", save=True, show=True, \n",
    "              plot_prior=False, height=20, width=20, add_info=True)"
   ]
  },
  {
   "cell_type": "code",
   "execution_count": null,
   "metadata": {
    "collapsed": false
   },
   "outputs": [],
   "source": [
    "from utils.plots import create_exper_label\n",
    "num_of_plots = 13\n",
    "T0 = 23\n",
    "fig = plt.figure(figsize=(8, 25))\n",
    "\n",
    "for i in range(1, num_of_plots+1):\n",
    "    T = T0+i\n",
    "    index = np.arange(1, T+1).astype(int)\n",
    "    qt = exper.val_stats[\"qt_hist\"][30][T]\n",
    "    ax1 = plt.subplot(num_of_plots, 1, i)\n",
    "    plt.bar(index, qt, 0.3, label=\"q(t|{})\".format(T))\n",
    "    ax1.legend(loc=\"best\")\n",
    "    \n",
    "fig_name = \"_\" + \"val\" + \"_\" + create_exper_label(exper)\n",
    "fig_name = os.path.join(exper.output_dir, config.qt_dist_prefix + fig_name + \".png\")\n",
    "plt.savefig(fig_name, bbox_inches='tight')\n",
    "plt.close()"
   ]
  },
  {
   "cell_type": "code",
   "execution_count": 41,
   "metadata": {
    "collapsed": false
   },
   "outputs": [
    {
     "name": "stdout",
     "output_type": "stream",
     "text": [
      "INFO - Successfully saved fig logs/run_20170814_17_04_25_metaV1_50ep_100ops_lr3e05/loss_metaV1_50ep_100ops_21:43:29.png\n"
     ]
    },
    {
     "data": {
      "image/png": "[encoded data removed]",
      "text/plain": [
       "<matplotlib.figure.Figure at 0x7fe27172a490>"
      ]
     },
     "metadata": {},
     "output_type": "display_data"
    }
   ],
   "source": [
    "loss_plot(experiments[0], show=True, save=True, validation=False, only_val=False)"
   ]
  },
  {
   "cell_type": "code",
   "execution_count": null,
   "metadata": {
    "collapsed": false,
    "scrolled": false
   },
   "outputs": [],
   "source": [
    "plot_actsb_qts(new_experiments[3], data_set=\"eval\", save=False, show=True, add_info=False, epoch=400, \n",
    "              fig_name=\"qt_dist_test_eval_500steps\")"
   ]
  },
  {
   "cell_type": "code",
   "execution_count": 79,
   "metadata": {
    "collapsed": false
   },
   "outputs": [
    {
     "name": "stdout",
     "output_type": "stream",
     "text": [
      "INFO - Successfully saved fig logs/run_20170815_14_33_06_act_sbV2_50ep_nu0.95_lr5e05/T_dist_eval.png\n"
     ]
    },
    {
     "data": {
      "image/png": "[encoded data removed]",
      "text/plain": [
       "<matplotlib.figure.Figure at 0x7f5eed47e750>"
      ]
     },
     "metadata": {},
     "output_type": "display_data"
    }
   ],
   "source": [
    "plot_dist_optimization_steps(new_experiments[2], data_set=\"eval\", save=True, show=True, epoch=400)"
   ]
  },
  {
   "cell_type": "code",
   "execution_count": 20,
   "metadata": {
    "collapsed": false
   },
   "outputs": [
    {
     "name": "stdout",
     "output_type": "stream",
     "text": [
      "INFO - Successfully saved fig logs/run_20170915_11_56_02_act_sbV3.2_150ep_nu0.9kls0.03_lr1e04/qt_values_test200steps_unrolled_on_200_MLP.png\n"
     ]
    },
    {
     "data": {
      "image/png": "[encoded data removed]",
      "text/plain": [
       "<matplotlib.figure.Figure at 0x7fdf9e1d3dd0>"
      ]
     },
     "metadata": {},
     "output_type": "display_data"
    }
   ],
   "source": [
    "exper = new_experiments[1]\n",
    "x_max = None\n",
    "hyper_param = str.replace(str(exper.config.ptT_shape_param), '.', '_')\n",
    "plot_actsb_qts(exper, data_set=\"eval\", save=True, show=True, add_info=False, epoch=400, \n",
    "              fig_name=\"trajectory_weights_test\" + \"_t{}\".format(hyper_param), \n",
    "              huge=True,\n",
    "              p_title=r\"Trajectory weights / M-PACT $\\tau={}$\".format(exper.config.ptT_shape_param),\n",
    "              height=6, width=11, x_max=x_max)"
   ]
  },
  {
   "cell_type": "code",
   "execution_count": null,
   "metadata": {
    "collapsed": false
   },
   "outputs": [],
   "source": [
    "exper = experiments[1]\n",
    "max_epoch = None\n",
    "hyper_param = str.replace(str(exper.config.ptT_shape_param), '.', '_')\n",
    "plot_image_map_losses(exper, fig_name=\"10dregT_mpact_st_losses\" + \"_t{}\".format(hyper_param),\n",
    "                      do_save=True, do_show=True, \n",
    "                      max_epoch=max_epoch, max_time_step=None, \n",
    "                      fig_title=\"Loss per time step / M-PACT\" + r\" $\\tau={}$\".format(exper.config.ptT_shape_param), \n",
    "                      scale= [18,60], huge=True)"
   ]
  },
  {
   "cell_type": "code",
   "execution_count": 2,
   "metadata": {
    "collapsed": false
   },
   "outputs": [
    {
     "name": "stdout",
     "output_type": "stream",
     "text": [
      "Ready\n"
     ]
    }
   ],
   "source": [
    "# generate new validation and test set for mixed MLPs\n",
    "\n",
    "test_funcs = []\n",
    "num_of_funcs = 10\n",
    "binary_switch = 0\n",
    "for _ in np.arange(num_of_funcs):\n",
    "    if binary_switch == 0:\n",
    "        test_funcs.append(MLP(default_mlp_architecture))\n",
    "        binary_switch = 1\n",
    "    else:\n",
    "        test_funcs.append(MLP(two_layer_mlp_architecture))\n",
    "        binary_switch = 0\n",
    "        \n",
    "with open(\"data/test_mixed_mlp_\" + str(num_of_funcs) + \".dll\", 'wb') as f:\n",
    "     dill.dump(test_funcs, f)\n",
    "print(\"Ready\")"
   ]
  },
  {
   "cell_type": "code",
   "execution_count": 8,
   "metadata": {
    "collapsed": false
   },
   "outputs": [
    {
     "name": "stdout",
     "output_type": "stream",
     "text": [
      "INFO - Successfully saved fig logs/run_20171009_15_28_10_meta_actV1_125ep_tau0.0001_lr5e05/loss_train_meta_actV1_125ep_tau0.0001.png\n",
      "(100, 125)\n",
      "INFO - Successfully saved fig logs/run_20171009_15_28_10_meta_actV1_125ep_tau0.0001_lr5e05/loss_optimizer_train_meta_actV1_125ep_tau0.0001.png\n",
      "INFO - Successfully saved fig logs/run_20171009_15_28_10_meta_actV1_125ep_tau0.0001_lr5e05/loss_eval_meta_actV1_125ep_tau0.0001.png\n",
      "(100, 125)\n",
      "INFO - Successfully saved fig logs/run_20171009_15_28_10_meta_actV1_125ep_tau0.0001_lr5e05/loss_optimizer_eval_meta_actV1_125ep_tau0.0001.png\n",
      "(101, 10)\n",
      "INFO - Successfully saved fig logs/run_20171009_15_28_10_meta_actV1_125ep_tau0.0001_lr5e05/train_step_loss_map_meta_actV1_125ep_tau0.0001.png\n",
      "INFO - Successfully saved fig logs/run_20171009_15_28_10_meta_actV1_125ep_tau0.0001_lr5e05/T_dist_train.png\n",
      "INFO - Successfully saved fig logs/run_20171009_15_28_10_meta_actV1_125ep_tau0.0001_lr5e05/gradient_statistics.png\n",
      "INFO - Successfully saved fig logs/run_20171009_15_28_10_meta_actV1_125ep_tau0.0001_lr5e05/train_step_map_qts_meta_actV1_125ep_tau0.0001.png\n",
      "INFO - Successfully saved fig logs/run_20171009_15_28_10_meta_actV1_125ep_tau0.0001_lr5e05/train_step_map_halting_meta_actV1_125ep_tau0.0001.png\n",
      "INFO - Successfully saved fig logs/run_20171009_15_28_10_meta_actV1_125ep_tau0.0001_lr5e05/qt_values_train_meta_actV1_125ep_tau0.0001.png\n",
      "INFO - Successfully saved fig logs/run_20171009_15_28_10_meta_actV1_125ep_tau0.0001_lr5e05/halting_step_stats.png\n"
     ]
    }
   ],
   "source": [
    "experiments[2].generate_figures()"
   ]
  },
  {
   "cell_type": "code",
   "execution_count": 13,
   "metadata": {
    "collapsed": false
   },
   "outputs": [
    {
     "data": {
      "image/png": "[encoded data removed]",
      "text/plain": [
       "<matplotlib.figure.Figure at 0x7fc5b6b10f90>"
      ]
     },
     "metadata": {},
     "output_type": "display_data"
    }
   ],
   "source": [
    "plot_actsb_qts(experiments[2], data_set=\"train\", fig_name=\"qt_values_test100steps_unrolled_on_50_MLPs\", \n",
    "               height=10, width=6, save=False, show=True, epoch=130)"
   ]
  },
  {
   "cell_type": "code",
   "execution_count": 53,
   "metadata": {
    "collapsed": false
   },
   "outputs": [
    {
     "name": "stderr",
     "output_type": "stream",
     "text": [
      "INFO - Epoch: 0 - Saving experimental details to logs/run_20170913_10_50_36_act_sbV3.2_125ep_nu0.9_lr1e04/exp_eval_stats_200_200steps.dll\n"
     ]
    }
   ],
   "source": [
    "new_exp = Experiment(new_experiments[6].args, new_experiments[6].config, set_seed=True)\n",
    "new_exp.batch_handler_class = new_experiments[6].batch_handler_class\n",
    "new_exp.output_dir = new_experiments[6].output_dir\n",
    "new_exp.meta_logger = logger\n",
    "new_exp.validation_handler_class = new_experiments[6].validation_handler_class\n",
    "new_exp.training_horizon = new_experiments[6].config.T\n",
    "\n",
    "new_exp.val_stats[\"step_losses\"][400] = new_experiments[6].val_stats[\"step_losses\"][400]\n",
    "new_exp.val_stats[\"opt_step_hist\"][400] = new_experiments[6].val_stats[\"opt_step_hist\"][400]\n",
    "new_exp.val_stats[\"halting_step\"][400] = new_experiments[6].val_stats[\"halting_step\"][400]\n",
    "new_exp.val_stats[\"qt_hist\"][400] = new_experiments[6].val_stats[\"qt_hist\"][400]\n",
    "new_exp.val_stats[\"step_acc\"][400] = new_experiments[6].val_stats[\"step_acc\"][400]\n",
    "new_exp.save(\"exp_eval_stats_200_\"+str(200) + \"steps.dll\")"
   ]
  },
  {
   "cell_type": "code",
   "execution_count": 79,
   "metadata": {
    "collapsed": false
   },
   "outputs": [
    {
     "name": "stdout",
     "output_type": "stream",
     "text": [
      "125\n",
      "Ready\n"
     ]
    }
   ],
   "source": [
    "def transform_halting_steps_to_opt_steps(halt_steps, last_epoch=None):\n",
    "    r = []\n",
    "    for i, steps in enumerate(halt_steps):\n",
    "        max_idx = np.max(steps.nonzero())\n",
    "        # skip first 0-step\n",
    "        l = []\n",
    "        for j, counter in enumerate(steps[1:max_idx+1]):\n",
    "            if counter != 0:\n",
    "                l.extend([j+1] * counter)\n",
    "        r.append(l)\n",
    "    return r\n",
    "        \n",
    "schedule = np.vstack(experiments[1].epoch_stats[\"halting_step\"].values())\n",
    "\n",
    "schedule = transform_halting_steps_to_opt_steps(schedule)\n",
    "print(len(schedule))\n",
    "with open(\"data/curriculum.dll\", 'wb') as f:\n",
    "     dill.dump(schedule, f)\n",
    "print(\"Ready\")"
   ]
  }
 ],
 "metadata": {
  "kernelspec": {
   "display_name": "Python 2",
   "language": "python",
   "name": "python2"
  },
  "language_info": {
   "codemirror_mode": {
    "name": "ipython",
    "version": 2
   },
   "file_extension": ".py",
   "mimetype": "text/x-python",
   "name": "python",
   "nbconvert_exporter": "python",
   "pygments_lexer": "ipython2",
   "version": "2.7.13"
  }
 },
 "nbformat": 4,
 "nbformat_minor": 0
}
