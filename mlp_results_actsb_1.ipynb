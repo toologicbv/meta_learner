{
 "cells": [
  {
   "cell_type": "code",
   "execution_count": 1,
   "metadata": {
    "collapsed": false
   },
   "outputs": [],
   "source": [
    "import sys\n",
    "sys.path.insert(0, \"/home/jogi/git/repository/meta_learner\")\n",
    "if \"/home/jogi/.local/lib/python2.7/site-packages\" in sys.path:\n",
    "    sys.path.remove(\"/home/jogi/.local/lib/python2.7/site-packages\")\n",
    "\n",
    "import matplotlib\n",
    "import matplotlib.pyplot as plt\n",
    "# from mpl_toolkits.mplot3d import Axes3D\n",
    "from matplotlib import cm\n",
    "%matplotlib inline\n",
    "\n",
    "from datetime import datetime\n",
    "from pytz import timezone\n",
    "import itertools\n",
    "import copy\n",
    "\n",
    "import numpy as np\n",
    "import torch\n",
    "from torch.autograd import Variable\n",
    "import torch.nn as nn\n",
    "import torch.nn.functional as F\n",
    "import torch.optim as optim\n",
    "from torch.nn import init\n",
    "\n",
    "import numpy as np\n",
    "import dill\n",
    "import os\n",
    "from collections import OrderedDict\n",
    "\n",
    "\n",
    "from utils.experiment import Experiment\n",
    "from utils.common import get_model, create_def_argparser, create_logger, softmax, default_mlp_architecture\n",
    "from utils.common import test40_mlp_architecture, testRELU_mlp_architecture, two_layer_mlp_architecture\n",
    "from utils.plots import loss_plot, param_error_plot, plot_qt_probs, plot_dist_optimization_steps\n",
    "from utils.plots import plot_actsb_qts, plot_image_map_data, plot_image_map_losses\n",
    "from utils.plots import plot_loss_over_tsteps, plot_halting_step_stats_with_loss, plot_loss_versus_halting_step\n",
    "from utils.probs import TimeStepsDist, ConditionalTimeStepDist\n",
    "from utils.config import config\n",
    "from val_optimizer import validate_optimizer\n",
    "from utils.mlp import MLP\n",
    "from utils.regression import RegressionFunction, L2LQuadratic, RegressionWithStudentT\n",
    "from utils.helper import tensor_and, tensor_any\n",
    "from utils.batch_handler import ACTBatchHandler\n",
    "from utils.epoch import Epoch, halting_step_stats\n",
    "from models.rnn_optimizer import MetaLearner, AdaptiveMetaLearnerV1, AdaptiveMetaLearnerV2\n",
    "from models.sb_act_optimizer import StickBreakingACTBaseModel\n",
    "\n",
    "from utils.regression import RegressionFunction, L2LQuadratic, neg_log_likelihood_loss, RosenBrock\n",
    "from utils.regression import RegressionWithStudentT\n",
    "\n",
    "%load_ext autoreload\n",
    "%autoreload 2"
   ]
  },
  {
   "cell_type": "code",
   "execution_count": 2,
   "metadata": {
    "collapsed": false
   },
   "outputs": [],
   "source": [
    "expers_to_load = [# Meta V1 model regressionT\n",
    "                  (False, \"run_20170908_18_26_21_metaV1_13ep_50ops_lr1e05\"), # 50ops\n",
    "                  (False, \"run_20170911_12_11_16_metaV1_12ep_100ops_lr1e05\"),\n",
    "                  # Graves ACT\n",
    "                  (True, \"run_20170908_13_17_26_act_gravesV1_10ep_tau0.003_lr6e04\"),\n",
    "                  (True, \"run_20170910_20_06_36_act_gravesV1_12ep_tau0.0025_lr6e04\"),\n",
    "                  (True, \"run_20170911_18_08_16_act_gravesV1_10ep_tau0.0023_lr6e04\"),\n",
    "                  (False, \"run_20170911_07_47_26_act_gravesV1_10ep_tau0.0022_lr6e04\"),\n",
    "                  (True, \"run_20170911_15_14_14_act_gravesV1_10ep_tau0.0022_lr6e04\"), \n",
    "                  (False, \"run_20170911_14_53_59_act_gravesV1_10ep_tau0.002_lr6e04\")] \n",
    "\n"
   ]
  },
  {
   "cell_type": "code",
   "execution_count": 3,
   "metadata": {
    "collapsed": false,
    "scrolled": false
   },
   "outputs": [
    {
     "name": "stderr",
     "output_type": "stream",
     "text": [
      "INFO - created local logger for experiment with model act_gravesV1_mlp_tau0.003\n",
      "INFO - INFO - loaded existing model from file logs/run_20170908_13_17_26_act_gravesV1_10ep_tau0.003_lr6e04/act_gravesV1_mlp_tau0.003.pkl\n",
      "INFO - Note: StickBreakingACTBaseModel is running on GPU\n",
      "INFO - ['linear_in.weight', 'linear_in.bias', 'lstms.0.fc_i2h.weight', 'lstms.0.fc_i2h.bias', 'lstms.0.fc_h2h.weight', 'lstms.0.fc_h2h.bias', 'lstms.1.fc_i2h.weight', 'lstms.1.fc_i2h.bias', 'lstms.1.fc_h2h.weight', 'lstms.1.fc_h2h.bias', 'theta_linear_out.weight', 'rho_linear_out.weight', 'rho_linear_out.bias']\n"
     ]
    },
    {
     "name": "stdout",
     "output_type": "stream",
     "text": [
      "0 Loading model act_gravesV1_mlp_tau0.003 (q-prob 0.60) / run_20170908_13_17_26_act_gravesV1_10ep_tau0.003_lr6e04\n"
     ]
    },
    {
     "name": "stderr",
     "output_type": "stream",
     "text": [
      "INFO - created local logger for experiment with model act_gravesV1_mlp_tau0.0025\n",
      "INFO - INFO - loaded existing model from file logs/run_20170910_20_06_36_act_gravesV1_12ep_tau0.0025_lr6e04/act_gravesV1_mlp_tau0.0025.pkl\n",
      "INFO - Note: StickBreakingACTBaseModel is running on GPU\n",
      "INFO - ['linear_in.weight', 'linear_in.bias', 'lstms.0.fc_i2h.weight', 'lstms.0.fc_i2h.bias', 'lstms.0.fc_h2h.weight', 'lstms.0.fc_h2h.bias', 'lstms.1.fc_i2h.weight', 'lstms.1.fc_i2h.bias', 'lstms.1.fc_h2h.weight', 'lstms.1.fc_h2h.bias', 'theta_linear_out.weight', 'rho_linear_out.weight', 'rho_linear_out.bias']\n"
     ]
    },
    {
     "name": "stdout",
     "output_type": "stream",
     "text": [
      "1 Loading model act_gravesV1_mlp_tau0.0025 (q-prob 0.90) / run_20170910_20_06_36_act_gravesV1_12ep_tau0.0025_lr6e04\n"
     ]
    },
    {
     "name": "stderr",
     "output_type": "stream",
     "text": [
      "INFO - created local logger for experiment with model act_gravesV1_mlp_tau0.0023\n",
      "INFO - INFO - loaded existing model from file logs/run_20170911_18_08_16_act_gravesV1_10ep_tau0.0023_lr6e04/act_gravesV1_mlp_tau0.0023.pkl\n",
      "INFO - Note: StickBreakingACTBaseModel is running on GPU\n",
      "INFO - ['linear_in.weight', 'linear_in.bias', 'lstms.0.fc_i2h.weight', 'lstms.0.fc_i2h.bias', 'lstms.0.fc_h2h.weight', 'lstms.0.fc_h2h.bias', 'lstms.1.fc_i2h.weight', 'lstms.1.fc_i2h.bias', 'lstms.1.fc_h2h.weight', 'lstms.1.fc_h2h.bias', 'theta_linear_out.weight', 'rho_linear_out.weight', 'rho_linear_out.bias']\n"
     ]
    },
    {
     "name": "stdout",
     "output_type": "stream",
     "text": [
      "2 Loading model act_gravesV1_mlp_tau0.0023 (q-prob 0.90) / run_20170911_18_08_16_act_gravesV1_10ep_tau0.0023_lr6e04\n"
     ]
    },
    {
     "name": "stderr",
     "output_type": "stream",
     "text": [
      "INFO - created local logger for experiment with model act_gravesV1_mlp_tau0.0022\n",
      "INFO - INFO - loaded existing model from file logs/run_20170911_15_14_14_act_gravesV1_10ep_tau0.0022_lr6e04/act_gravesV1_mlp_tau0.0022.pkl\n",
      "INFO - Note: StickBreakingACTBaseModel is running on GPU\n",
      "INFO - ['linear_in.weight', 'linear_in.bias', 'lstms.0.fc_i2h.weight', 'lstms.0.fc_i2h.bias', 'lstms.0.fc_h2h.weight', 'lstms.0.fc_h2h.bias', 'lstms.1.fc_i2h.weight', 'lstms.1.fc_i2h.bias', 'lstms.1.fc_h2h.weight', 'lstms.1.fc_h2h.bias', 'theta_linear_out.weight', 'rho_linear_out.weight', 'rho_linear_out.bias']\n"
     ]
    },
    {
     "name": "stdout",
     "output_type": "stream",
     "text": [
      "3 Loading model act_gravesV1_mlp_tau0.0022 (q-prob 0.90) / run_20170911_15_14_14_act_gravesV1_10ep_tau0.0022_lr6e04\n"
     ]
    }
   ],
   "source": [
    "## IMPORTANT ---- NUMBER OF STEPS FOR TEST EVALUATION\n",
    "MAX_EVAL_STEPS = 35\n",
    "\n",
    "without_models = False\n",
    "\n",
    "experiments = []\n",
    "models = []\n",
    "new_experiments = []\n",
    "explogger = None\n",
    "m = 0\n",
    "if 'logger' in vars() or 'logger' in globals():\n",
    "    pass\n",
    "else:\n",
    "    logger = create_logger(exper=None, file_handler=True, output_dir=\"/home/jogi/git/repository/meta_learner/logs\")\n",
    "\n",
    "for e, exp_path in enumerate(expers_to_load):\n",
    "    if exp_path[0]:\n",
    "        \n",
    "        exp = Experiment.load(exp_path[1], do_log=True, meta_logger=logger)\n",
    "            \n",
    "        if \"act\" in exp.args.model:\n",
    "            print(\"{} Loading model {} (q-prob {:.2f}) / {}\".format(m, exp.args.model, \n",
    "                                                                    exp.config.ptT_shape_param,\n",
    "                                                                    exp.args.log_dir))\n",
    "        else:\n",
    "            print(\"{} Loading model {} / {}\".format(m, exp.args.model, exp.args.log_dir))\n",
    "        \n",
    "        experiments.append(exp)\n",
    "        m += 1\n",
    "        if not without_models:\n",
    "            num_inputs = 1\n",
    "            if exp.args.problem == 'mlp':\n",
    "                num_inputs = 3\n",
    "            models.append(get_model(exp, num_inputs, retrain=True))\n",
    "        new_experiments.append(Experiment(exp.args, exp.config, set_seed=True))\n",
    "        new_experiments[-1].batch_handler_class = experiments[-1].batch_handler_class\n",
    "        new_experiments[-1].output_dir = experiments[-1].output_dir\n",
    "        new_experiments[-1].reset_val_stats()\n",
    "        new_experiments[-1].meta_logger = logger\n",
    "        new_experiments[-1].validation_handler_class = experiments[-1].validation_handler_class\n"
   ]
  },
  {
   "cell_type": "code",
   "execution_count": 8,
   "metadata": {
    "collapsed": false
   },
   "outputs": [
    {
     "name": "stdout",
     "output_type": "stream",
     "text": [
      "Loading experiment run_20170908_13_17_26_act_gravesV1_10ep_tau0.003_lr6e04 / path run_20170908_13_17_26_act_gravesV1_10ep_tau0.003_lr6e04/exp_eval_stats_50_60steps.dll\n",
      "Loading experiment run_20170910_20_06_36_act_gravesV1_12ep_tau0.0025_lr6e04 / path run_20170910_20_06_36_act_gravesV1_12ep_tau0.0025_lr6e04/exp_eval_stats_50_60steps.dll\n",
      "Loading experiment run_20170911_18_08_16_act_gravesV1_10ep_tau0.0023_lr6e04 / path run_20170911_18_08_16_act_gravesV1_10ep_tau0.0023_lr6e04/exp_eval_stats_50_60steps.dll\n",
      "Loading experiment run_20170911_15_14_14_act_gravesV1_10ep_tau0.0022_lr6e04 / path run_20170911_15_14_14_act_gravesV1_10ep_tau0.0022_lr6e04/exp_eval_stats_50_60steps.dll\n",
      "Ready\n"
     ]
    }
   ],
   "source": [
    "del new_experiments\n",
    "new_experiments = []\n",
    "unrolled_steps=60\n",
    "\n",
    "for exper in expers_to_load:\n",
    "    if exper[0]:\n",
    "        \n",
    "        path_to_exp = exper[1] + \"/\" + \"exp_eval_stats_50_\" + str(unrolled_steps) +\"steps.dll\"\n",
    "        print(\"Loading experiment {} / path {}\".format(exper[1], path_to_exp))\n",
    "        new_experiments.append(Experiment.load(path_to_exp=path_to_exp,\n",
    "                                               full_path=True))\n",
    "        if new_experiments[-1].meta_logger is None:\n",
    "            new_experiments[-1].meta_logger = logger\n",
    "print(\"Ready\")"
   ]
  },
  {
   "cell_type": "code",
   "execution_count": 5,
   "metadata": {
    "collapsed": false
   },
   "outputs": [
    {
     "name": "stdout",
     "output_type": "stream",
     "text": [
      "Ready\n"
     ]
    }
   ],
   "source": [
    "with open(\"data/test_mlp_50.dll\", 'rb') as f:\n",
    "     test_funcs = dill.load(f)\n",
    "print(\"Ready\")"
   ]
  },
  {
   "cell_type": "code",
   "execution_count": 9,
   "metadata": {
    "collapsed": false,
    "scrolled": false
   },
   "outputs": [
    {
     "data": {
      "image/png": "[encoded data removed]",
      "text/plain": [
       "<matplotlib.figure.Figure at 0x7f7d6023ab90>"
      ]
     },
     "metadata": {},
     "output_type": "display_data"
    }
   ],
   "source": [
    "# some_experiments=[new_experiments[0], new_experiments[1], new_experiments[2]] \n",
    "best_val_runs, lowest_value = plot_loss_over_tsteps(new_experiments, do_show=True, \n",
    "                                              do_save=False, \n",
    "                                              plot_best=False,\n",
    "                                              fig_name=\"mlp_35unroll_metaV1_act_graves_0_35\", \n",
    "                                              loss_type=\"loss\",\n",
    "                                              min_step=0,\n",
    "                                              max_step=60,\n",
    "                                              sort_exper=\"MLP (1-layer/20units)\",\n",
    "                                              log_scale=True,\n",
    "                                              y_lim=[1.5, 2.4],\n",
    "                                              with_stddev=False,\n",
    "                                              runID=None)"
   ]
  },
  {
   "cell_type": "code",
   "execution_count": null,
   "metadata": {
    "collapsed": false
   },
   "outputs": [],
   "source": [
    "loss_plot(experiments[1], loss_type=\"opt_loss\", save=True, show=True, \n",
    "          log_scale=False, validation=True, only_val=False)"
   ]
  },
  {
   "cell_type": "code",
   "execution_count": null,
   "metadata": {
    "collapsed": false,
    "scrolled": false
   },
   "outputs": [],
   "source": [
    "# exp_error_curves = [experiments[0],  experiments[3]]\n",
    "for exp, mdl in zip(experiments, models):\n",
    "    print(mdl.name)\n",
    "    loss_plot(exp, loss_type=\"loss\", save=False, validation=True, show=True)\n"
   ]
  },
  {
   "cell_type": "code",
   "execution_count": null,
   "metadata": {
    "collapsed": false,
    "scrolled": false
   },
   "outputs": [],
   "source": [
    "# eval_new_val_expers = [new_experiments[0], new_experiments[3]] #, new_experiments[5]]\n",
    "\n",
    "best_val_runs, lowest_value = plot_val_result(new_experiments, \n",
    "                                              do_show=True, \n",
    "                                              do_save=True, \n",
    "                                              plot_best=False,\n",
    "                                              loss_type=\"loss\",\n",
    "                                              fig_name=\"expv5_val_results_1000_loss_10ops\")"
   ]
  },
  {
   "cell_type": "code",
   "execution_count": null,
   "metadata": {
    "collapsed": false,
    "scrolled": false
   },
   "outputs": [],
   "source": [
    "# eval_expers = new_exp_only = [experiments[0], experiments[1], experiments[2]]\n",
    "plot_parm_loss_steps(experiments, num_of_plots=4, do_show=True, \n",
    "                     do_save=False, loss_type=\"loss\", log_scale=False, max_step=20,\n",
    "                    fig_name=\"metaV2_val_loss_during_training\")"
   ]
  },
  {
   "cell_type": "code",
   "execution_count": 7,
   "metadata": {
    "collapsed": false,
    "scrolled": false
   },
   "outputs": [
    {
     "name": "stderr",
     "output_type": "stream",
     "text": [
      "INFO - Epoch: 400 - Evaluating 50 test functions\n"
     ]
    },
    {
     "name": "stdout",
     "output_type": "stream",
     "text": [
      "Validating model act_gravesV1_mlp_tau0.0023 \n"
     ]
    },
    {
     "name": "stderr",
     "output_type": "stream",
     "text": [
      "INFO - Epoch: 400 - evaluation result - time step losses\n",
      "INFO - [ 2.305  2.176  2.046  1.941  1.863  1.801  1.768  1.734  1.723  1.707\n",
      "  1.698  1.687  1.684  1.676  1.674  1.665  1.666  1.666  1.656  1.658\n",
      "  1.657  1.655  1.653  1.651  1.648  1.649  1.649  1.643  1.639  1.637\n",
      "  1.644  1.638  1.64   1.635  1.63   1.631]\n",
      "INFO - ! - Validation last step 19 - !\n",
      "INFO - Epoch: 400 - evaluation - halting step distribution\n",
      "INFO - [ 0  0  0  0  0  0  0  0  0  0  0  0  0  0  0  0  0  0 50]\n",
      "INFO - Epoch: 400 - evaluation - Average number of optimization steps 19.000 stddev 0.000 median 19 sum-steps 950\n",
      "INFO - Epoch: 400 - End test evaluation (elapsed time 30.99 sec) avg act loss/kl-term/penalty 1.717/0.0438/0.0000\n",
      "INFO - Epoch: 400 - End test evaluation - Avg accuracy 83.594\n",
      "INFO - Epoch: 400 - Successfully saved model to logs/run_20170911_18_08_16_act_gravesV1_10ep_tau0.0023_lr6e04/act_gravesV1_mlp_tau0.0023_eval_run400.pkl\n",
      "INFO - Epoch: 400 - Saving experimental details to logs/run_20170911_18_08_16_act_gravesV1_10ep_tau0.0023_lr6e04/exp_eval_stats_50_35steps.dll\n"
     ]
    },
    {
     "name": "stdout",
     "output_type": "stream",
     "text": [
      "End....\n"
     ]
    }
   ],
   "source": [
    "exp_idx = 2\n",
    "model = models[exp_idx]\n",
    "\n",
    "max_steps = 35\n",
    "# new_experiments[exp_idx].model_path\n",
    "\n",
    "new_experiments[exp_idx].epoch = 400\n",
    "new_experiments[exp_idx].config.max_val_opt_steps = max_steps\n",
    "new_experiments[exp_idx].config.T = max_steps\n",
    "new_experiments[exp_idx].meta_logger = logger\n",
    "\n",
    "epoch_obj = Epoch()\n",
    "epoch_obj.start(new_experiments[exp_idx])\n",
    "print(\"Validating model {} \".format(model.name))\n",
    "new_experiments[exp_idx].eval(epoch_obj, model, functions=test_funcs, save_run=None, save_model=False)\n",
    "print(\"End....\")\n",
    "new_experiments[exp_idx].save(\"exp_eval_stats_50_\"+str(max_steps) + \"steps.dll\")"
   ]
  },
  {
   "cell_type": "code",
   "execution_count": 9,
   "metadata": {
    "collapsed": false
   },
   "outputs": [],
   "source": [
    "X = np.vstack(new_experiments[2].val_stats[\"halt_step_funcs\"].values())"
   ]
  },
  {
   "cell_type": "code",
   "execution_count": null,
   "metadata": {
    "collapsed": false,
    "scrolled": false
   },
   "outputs": [],
   "source": [
    "exp_idx = 0\n",
    "max_steps = 60\n",
    "new_experiments[exp_idx].epoch = 400\n",
    "new_experiments[exp_idx].config.max_val_opt_steps = max_steps\n",
    "new_experiments[exp_idx].config.T = max_steps\n",
    "new_experiments[exp_idx].config.qt_threshold = 0.95\n",
    "new_experiments[exp_idx].reset_val_stats()\n",
    "if new_experiments[exp_idx].meta_logger is None:\n",
    "    new_experiments[exp_idx].meta_logger = logger\n",
    "# the same object for the validation data\n",
    "model = models[exp_idx]\n",
    "model.opt_step_hist_val = np.zeros(new_experiments[exp_idx].config.max_val_opt_steps)\n",
    "model.qt_hist_val = OrderedDict([(i, np.zeros(i)) \n",
    "                                 for i in np.arange(1, new_experiments[exp_idx].config.max_val_opt_steps + 1)])\n",
    "print(\"Validating model {} with q-prob {:.3f}\".format(model.name, experiments[exp_idx].config.ptT_shape_param))\n",
    "\n",
    "if \"act\" in model.name:\n",
    "    model.init_qt_statistics(new_experiments[exp_idx].config)\n",
    "\n",
    "validate_optimizer(model, new_experiments[exp_idx], explogger, val_set=test_funcs, \n",
    "                   max_steps=max_steps, verbose=False, plot_func=False, show_plot=False, save_plot=False,\n",
    "                   num_of_plots=5, save_model=False, save_qt_prob_funcs=False, \n",
    "                   save_run=\"exp_eval_stats_10000_\"+str(max_steps) + \"steps\")\n",
    "new_experiments[exp_idx].save(\"exp_eval_stats_50_\"+str(max_steps) + \"steps.dll\")"
   ]
  },
  {
   "cell_type": "code",
   "execution_count": null,
   "metadata": {
    "collapsed": false
   },
   "outputs": [],
   "source": [
    "plot_qt_probs(new_experiments[2], data_set=\"val\", save=True, show=True, \n",
    "              plot_prior=False, height=20, width=20, add_info=True)"
   ]
  },
  {
   "cell_type": "code",
   "execution_count": null,
   "metadata": {
    "collapsed": false
   },
   "outputs": [],
   "source": [
    "from utils.plots import create_exper_label\n",
    "num_of_plots = 13\n",
    "T0 = 23\n",
    "fig = plt.figure(figsize=(8, 25))\n",
    "\n",
    "for i in range(1, num_of_plots+1):\n",
    "    T = T0+i\n",
    "    index = np.arange(1, T+1).astype(int)\n",
    "    qt = exper.val_stats[\"qt_hist\"][30][T]\n",
    "    ax1 = plt.subplot(num_of_plots, 1, i)\n",
    "    plt.bar(index, qt, 0.3, label=\"q(t|{})\".format(T))\n",
    "    ax1.legend(loc=\"best\")\n",
    "    \n",
    "fig_name = \"_\" + \"val\" + \"_\" + create_exper_label(exper)\n",
    "fig_name = os.path.join(exper.output_dir, config.qt_dist_prefix + fig_name + \".png\")\n",
    "plt.savefig(fig_name, bbox_inches='tight')\n",
    "plt.close()"
   ]
  },
  {
   "cell_type": "code",
   "execution_count": 41,
   "metadata": {
    "collapsed": false
   },
   "outputs": [
    {
     "name": "stdout",
     "output_type": "stream",
     "text": [
      "INFO - Successfully saved fig logs/run_20170814_17_04_25_metaV1_50ep_100ops_lr3e05/loss_metaV1_50ep_100ops_21:43:29.png\n"
     ]
    },
    {
     "data": {
      "image/png": "[encoded data removed]",
      "text/plain": [
       "<matplotlib.figure.Figure at 0x7fe27172a490>"
      ]
     },
     "metadata": {},
     "output_type": "display_data"
    }
   ],
   "source": [
    "loss_plot(experiments[0], show=True, save=True, validation=False, only_val=False)"
   ]
  },
  {
   "cell_type": "code",
   "execution_count": null,
   "metadata": {
    "collapsed": false,
    "scrolled": false
   },
   "outputs": [],
   "source": [
    "plot_actsb_qts(new_experiments[3], data_set=\"eval\", save=False, show=True, add_info=False, epoch=400, \n",
    "              fig_name=\"qt_dist_test_eval_500steps\")"
   ]
  },
  {
   "cell_type": "code",
   "execution_count": 79,
   "metadata": {
    "collapsed": false
   },
   "outputs": [
    {
     "name": "stdout",
     "output_type": "stream",
     "text": [
      "INFO - Successfully saved fig logs/run_20170815_14_33_06_act_sbV2_50ep_nu0.95_lr5e05/T_dist_eval.png\n"
     ]
    },
    {
     "data": {
      "image/png": "[encoded data removed]",
      "text/plain": [
       "<matplotlib.figure.Figure at 0x7f5eed47e750>"
      ]
     },
     "metadata": {},
     "output_type": "display_data"
    }
   ],
   "source": [
    "plot_dist_optimization_steps(new_experiments[2], data_set=\"eval\", save=True, show=True, epoch=400)"
   ]
  },
  {
   "cell_type": "code",
   "execution_count": null,
   "metadata": {
    "collapsed": false
   },
   "outputs": [],
   "source": [
    "plot_qt_detailed_stats(new_experiments[0], test_funcs, do_save=True, do_show=True, threshold=0.90)"
   ]
  },
  {
   "cell_type": "code",
   "execution_count": 7,
   "metadata": {
    "collapsed": false
   },
   "outputs": [
    {
     "data": {
      "image/png": "[encoded data removed]",
      "text/plain": [
       "<matplotlib.figure.Figure at 0x7f2ba0035f90>"
      ]
     },
     "metadata": {},
     "output_type": "display_data"
    }
   ],
   "source": [
    "plot_actsb_qts(new_experiments[5], data_set=\"eval\", fig_name=\"qt_test\", height=8, width=6, save=False, show=True)"
   ]
  },
  {
   "cell_type": "code",
   "execution_count": 10,
   "metadata": {
    "collapsed": false
   },
   "outputs": [
    {
     "name": "stdout",
     "output_type": "stream",
     "text": [
      "(1.6524886, 0.027550859)\n"
     ]
    }
   ],
   "source": [
    "print(np.mean(new_experiments[5].val_stats[\"loss_funcs\"][400][:,25]) ,\n",
    "      np.std(new_experiments[5].val_stats[\"loss_funcs\"][400][:,25]))"
   ]
  },
  {
   "cell_type": "code",
   "execution_count": null,
   "metadata": {
    "collapsed": false
   },
   "outputs": [],
   "source": [
    "from mpl_toolkits.mplot3d import Axes3D\n",
    "from matplotlib import cm\n",
    "from matplotlib.ticker import LinearLocator, FormatStrFormatter\n",
    "\n",
    "fig = plt.figure(figsize=(8, 6))\n",
    "ax = fig.gca(projection='3d')\n",
    "\n",
    "s = 0.05   # Try s=1, 0.25, 0.1, or 0.05\n",
    "X = np.arange(-1.2, 4+s, s)   #Could use linspace instead if dividing\n",
    "Y = np.arange(10, 13+s, s)   #evenly instead of stepping...\n",
    "    \n",
    "#Create the mesh grid(s) for all X/Y combos.\n",
    "X, Y = np.meshgrid(X, Y)\n",
    "\n",
    "#Rosenbrock function w/ two parameters using numpy Arrays\n",
    "Z = (3.5-X)**2 + 100.*(Y-X*X)**2\n",
    "\n",
    "surf = ax.plot_surface(X, Y, Z, rstride=1, cstride=1, cmap=cm.coolwarm,\n",
    "         linewidth=0, antialiased=False)  #Try coolwarm vs jet\n",
    "\n",
    "plt.xlabel('x')\n",
    "plt.ylabel('y')\n",
    "# ax.zaxis.set_major_locator(LinearLocator(10))\n",
    "# ax.zaxis.set_major_formatter(FormatStrFormatter('%.02f'))\n",
    "\n",
    "fig.colorbar(surf, shrink=0.5, aspect=5)\n",
    "\n",
    "#Displays the figure, handles user interface, returns when user closes window\n",
    "plt.show()"
   ]
  },
  {
   "cell_type": "code",
   "execution_count": 5,
   "metadata": {
    "collapsed": false
   },
   "outputs": [
    {
     "name": "stdout",
     "output_type": "stream",
     "text": [
      "Ready\n"
     ]
    }
   ],
   "source": [
    "\"\"\"\n",
    "    Generate new test functions\n",
    "\"\"\"\n",
    "test_funcs = RegressionWithStudentT(n_funcs=10000, n_samples=10, x_dim=10, scale_p=1., shape_p=1, use_cuda=True)\n",
    "with open(\"data/test_regression_T_10000_10_1.0_10.dll\", 'wb') as f:\n",
    "     dill.dump(test_funcs, f)\n",
    "print(\"Ready\")\n"
   ]
  },
  {
   "cell_type": "code",
   "execution_count": 15,
   "metadata": {
    "collapsed": false
   },
   "outputs": [
    {
     "name": "stdout",
     "output_type": "stream",
     "text": [
      "Ready\n"
     ]
    }
   ],
   "source": [
    "# two_layer_mlp_architecture, default_mlp_architecture\n",
    "\n",
    "test_funcs = []\n",
    "num_of_funcs = 50\n",
    "for _ in np.arange(num_of_funcs):\n",
    "    test_funcs.append(MLP(two_layer_mlp_architecture))\n",
    "with open(\"data/test_2layer_mlp_\" + str(num_of_funcs) + \".dll\", 'wb') as f:\n",
    "     dill.dump(test_funcs, f)\n",
    "print(\"Ready\")"
   ]
  },
  {
   "cell_type": "code",
   "execution_count": 13,
   "metadata": {
    "collapsed": false
   },
   "outputs": [
    {
     "data": {
      "text/plain": [
       "87.109375"
      ]
     },
     "execution_count": 13,
     "metadata": {},
     "output_type": "execute_result"
    }
   ],
   "source": [
    "new_experiments[4].val_stats[\"step_acc\"][400]"
   ]
  },
  {
   "cell_type": "code",
   "execution_count": 4,
   "metadata": {
    "collapsed": false
   },
   "outputs": [
    {
     "name": "stdout",
     "output_type": "stream",
     "text": [
      "INFO - Successfully saved fig logs/run_20170911_18_08_16_act_gravesV1_10ep_tau0.0023_lr6e04/loss_train_act_gravesV1_10ep_tau0.0023.png\n",
      "INFO - Successfully saved fig logs/run_20170911_18_08_16_act_gravesV1_10ep_tau0.0023_lr6e04/loss_optimizer_train_act_gravesV1_10ep_tau0.0023.png\n",
      "INFO - Successfully saved fig logs/run_20170911_18_08_16_act_gravesV1_10ep_tau0.0023_lr6e04/loss_eval_act_gravesV1_10ep_tau0.0023.png\n",
      "INFO - Successfully saved fig logs/run_20170911_18_08_16_act_gravesV1_10ep_tau0.0023_lr6e04/loss_optimizer_eval_act_gravesV1_10ep_tau0.0023.png\n",
      "INFO - Successfully saved fig logs/run_20170911_18_08_16_act_gravesV1_10ep_tau0.0023_lr6e04/train_step_loss_map_act_gravesV1_10ep_tau0.0023.png\n",
      "INFO - Successfully saved fig logs/run_20170911_18_08_16_act_gravesV1_10ep_tau0.0023_lr6e04/T_dist_train.png\n",
      "INFO - Successfully saved fig logs/run_20170911_18_08_16_act_gravesV1_10ep_tau0.0023_lr6e04/gradient_statistics.png\n",
      "INFO - Successfully saved fig logs/run_20170911_18_08_16_act_gravesV1_10ep_tau0.0023_lr6e04/eval_step_loss_map_act_gravesV1_10ep_tau0.0023.png\n",
      "INFO - Successfully saved fig logs/run_20170911_18_08_16_act_gravesV1_10ep_tau0.0023_lr6e04/train_step_map_qts_act_gravesV1_10ep_tau0.0023.png\n",
      "INFO - Successfully saved fig logs/run_20170911_18_08_16_act_gravesV1_10ep_tau0.0023_lr6e04/train_step_map_halting_act_gravesV1_10ep_tau0.0023.png\n",
      "INFO - Successfully saved fig logs/run_20170911_18_08_16_act_gravesV1_10ep_tau0.0023_lr6e04/qt_values_train_act_gravesV1_10ep_tau0.0023.png\n",
      "INFO - Successfully saved fig logs/run_20170911_18_08_16_act_gravesV1_10ep_tau0.0023_lr6e04/halting_step_stats.png\n",
      "INFO - Successfully saved fig logs/run_20170911_18_08_16_act_gravesV1_10ep_tau0.0023_lr6e04/T_dist_eval.png\n",
      "INFO - Successfully saved fig logs/run_20170911_18_08_16_act_gravesV1_10ep_tau0.0023_lr6e04/qt_values_eval_act_gravesV1_10ep_tau0.0023.png\n",
      "INFO - Successfully saved fig logs/run_20170911_18_08_16_act_gravesV1_10ep_tau0.0023_lr6e04/eval_step_map_qts_act_gravesV1_10ep_tau0.0023.png\n",
      "INFO - Successfully saved fig logs/run_20170911_18_08_16_act_gravesV1_10ep_tau0.0023_lr6e04/eval_step_map_halting_act_gravesV1_10ep_tau0.0023.png\n"
     ]
    }
   ],
   "source": [
    "experiments[2].generate_figures()"
   ]
  }
 ],
 "metadata": {
  "kernelspec": {
   "display_name": "Python 2",
   "language": "python",
   "name": "python2"
  },
  "language_info": {
   "codemirror_mode": {
    "name": "ipython",
    "version": 2
   },
   "file_extension": ".py",
   "mimetype": "text/x-python",
   "name": "python",
   "nbconvert_exporter": "python",
   "pygments_lexer": "ipython2",
   "version": "2.7.13"
  }
 },
 "nbformat": 4,
 "nbformat_minor": 0
}
