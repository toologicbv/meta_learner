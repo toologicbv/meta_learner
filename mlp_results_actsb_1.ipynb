{
 "cells": [
  {
   "cell_type": "code",
   "execution_count": 1,
   "metadata": {
    "collapsed": false
   },
   "outputs": [],
   "source": [
    "import sys\n",
    "sys.path.insert(0, \"/home/jogi/git/repository/meta_learner\")\n",
    "if \"/home/jogi/.local/lib/python2.7/site-packages\" in sys.path:\n",
    "    sys.path.remove(\"/home/jogi/.local/lib/python2.7/site-packages\")\n",
    "\n",
    "import matplotlib\n",
    "import matplotlib.pyplot as plt\n",
    "# from mpl_toolkits.mplot3d import Axes3D\n",
    "from matplotlib import cm\n",
    "%matplotlib inline\n",
    "\n",
    "from datetime import datetime\n",
    "from pytz import timezone\n",
    "import itertools\n",
    "import copy\n",
    "\n",
    "import numpy as np\n",
    "import torch\n",
    "from torch.autograd import Variable\n",
    "import torch.nn as nn\n",
    "import torch.nn.functional as F\n",
    "import torch.optim as optim\n",
    "from torch.nn import init\n",
    "\n",
    "import numpy as np\n",
    "import dill\n",
    "import os\n",
    "from collections import OrderedDict\n",
    "\n",
    "\n",
    "from utils.experiment import Experiment\n",
    "from utils.common import get_model, create_def_argparser, create_logger, softmax, default_mlp_architecture\n",
    "from utils.common import test40_mlp_architecture, testRELU_mlp_architecture, two_layer_mlp_architecture\n",
    "from utils.plots import loss_plot, param_error_plot, plot_qt_probs, plot_dist_optimization_steps\n",
    "from utils.plots import plot_actsb_qts, plot_image_map_data, plot_image_map_losses\n",
    "from utils.plots import plot_loss_over_tsteps, plot_halting_step_stats_with_loss, plot_loss_versus_halting_step\n",
    "from utils.probs import TimeStepsDist, ConditionalTimeStepDist\n",
    "from utils.config import config\n",
    "from val_optimizer import validate_optimizer\n",
    "from utils.mlp import MLP\n",
    "from utils.regression import RegressionFunction, L2LQuadratic, RegressionWithStudentT\n",
    "from utils.helper import tensor_and, tensor_any\n",
    "from utils.batch_handler import ACTBatchHandler\n",
    "from utils.epoch import Epoch, halting_step_stats\n",
    "from models.rnn_optimizer import MetaLearner, AdaptiveMetaLearnerV1, AdaptiveMetaLearnerV2\n",
    "from models.sb_act_optimizer import StickBreakingACTBaseModel\n",
    "\n",
    "from utils.regression import RegressionFunction, L2LQuadratic, neg_log_likelihood_loss, RosenBrock\n",
    "from utils.regression import RegressionWithStudentT\n",
    "\n",
    "%load_ext autoreload\n",
    "%autoreload 2"
   ]
  },
  {
   "cell_type": "code",
   "execution_count": 11,
   "metadata": {
    "collapsed": false
   },
   "outputs": [],
   "source": [
    "expers_to_load = [# Meta V1 model MLP\n",
    "                  (False, \"run_20170912_10_29_58_metaV1_13ep_50ops_lr1e05\"),\n",
    "                  (False, \"run_20170913_07_21_13_metaV1_14ep_100ops_lr1e05\"),\n",
    "                  (True, \"run_20170913_14_17_22_metaV1_90ep_100ops_lr9e06\"), # shorter epochs\n",
    "                  # Meta-ACT\n",
    "                  # good example that model that does not \"touch\" H develops \"own\" limits and \n",
    "                  # reasonable halting-distribution\n",
    "                  (False, \"run_20170913_12_05_28_meta_actV1_150ep_tau0.0015_lr5e05\"), # T=100\n",
    "                  (False, \"run_20170913_13_16_22_meta_actV1_150ep_tau0.0018_lr5e05\"), # T=100\n",
    "                  (True, \"run_20170912_22_23_56_meta_actV1_150ep_tau0.002_lr5e05\"), # T=100\n",
    "                  (True, \"run_20170914_13_43_55_meta_actV1_150ep_tau0.0021_lr5e05\"), # T=100\n",
    "                  # act_sbV3.2 tinkering\n",
    "                  # good example when horizon H=50 forces model to stop but halting distribution is useless\n",
    "                  (True, \"run_20170913_17_25_31_act_sbV3.2_20ep_nu0.9kls0.01_lr1e04\"),   # scale=0.01 AND H=50\n",
    "                  # STILL NOT CLEAR WHY THE REPLICATION WITH H=50 and 125 epochs does not yield the same results\n",
    "                  (False, \"run_20170913_16_11_10_act_sbV3.2_125ep_nu0.9kls0.01_lr1e04\"), # replicated with H=50\n",
    "                  (False, \"run_20170913_09_23_11_act_sbV3.2_125ep_nu0.9_lr1e04\"), # scale=0.01 AND H=100\n",
    "                  (True, \"run_20170913_10_50_36_act_sbV3.2_125ep_nu0.9_lr1e04\"), # scale=0.03 AND H=100\n",
    "                  # same as run_20170913_10_50_36_act_sbV3.2_125ep_nu0.9_lr1e04 BUT THEN WITH H=50 and EPOS=20\n",
    "                  (False, \"run_20170914_09_03_34_act_sbV3.2_20ep_nu0.9kls0.03_lr1e04\")] \n",
    "\n"
   ]
  },
  {
   "cell_type": "code",
   "execution_count": 12,
   "metadata": {
    "collapsed": false,
    "scrolled": false
   },
   "outputs": [
    {
     "name": "stderr",
     "output_type": "stream",
     "text": [
      "INFO - created local logger for experiment with model metaV1_mlp_100ops\n",
      "INFO - INFO - loaded existing model from file logs/run_20170913_14_17_22_metaV1_90ep_100ops_lr9e06/metaV1_mlp_100ops.pkl\n",
      "INFO - Note: MetaLearner is running on GPU\n",
      "INFO - ['linear1.weight', 'linear1.bias', 'lstms.0.fc_i2h.weight', 'lstms.0.fc_i2h.bias', 'lstms.0.fc_h2h.weight', 'lstms.0.fc_h2h.bias', 'lstms.1.fc_i2h.weight', 'lstms.1.fc_i2h.bias', 'lstms.1.fc_h2h.weight', 'lstms.1.fc_h2h.bias', 'linear_out.weight']\n"
     ]
    },
    {
     "name": "stdout",
     "output_type": "stream",
     "text": [
      "0 Loading model metaV1_mlp_100ops / run_20170913_14_17_22_metaV1_90ep_100ops_lr9e06\n"
     ]
    },
    {
     "name": "stderr",
     "output_type": "stream",
     "text": [
      "INFO - created local logger for experiment with model meta_actV1_mlp_tau0.002\n",
      "INFO - INFO - loaded existing model from file logs/run_20170912_22_23_56_meta_actV1_150ep_tau0.002_lr5e05/meta_actV1_mlp_tau0.002.pkl\n",
      "INFO - Note: StickBreakingACTBaseModel is running on GPU\n",
      "INFO - ['linear_in.weight', 'linear_in.bias', 'lstms.0.fc_i2h.weight', 'lstms.0.fc_i2h.bias', 'lstms.0.fc_h2h.weight', 'lstms.0.fc_h2h.bias', 'lstms.1.fc_i2h.weight', 'lstms.1.fc_i2h.bias', 'lstms.1.fc_h2h.weight', 'lstms.1.fc_h2h.bias', 'theta_linear_out.weight', 'rho_linear_out.weight', 'rho_linear_out.bias']\n"
     ]
    },
    {
     "name": "stdout",
     "output_type": "stream",
     "text": [
      "1 Loading model meta_actV1_mlp_tau0.002 (q-prob 0.90) / run_20170912_22_23_56_meta_actV1_150ep_tau0.002_lr5e05\n"
     ]
    },
    {
     "name": "stderr",
     "output_type": "stream",
     "text": [
      "INFO - created local logger for experiment with model meta_actV1_mlp_tau0.0021\n",
      "INFO - INFO - loaded existing model from file logs/run_20170914_13_43_55_meta_actV1_150ep_tau0.0021_lr5e05/meta_actV1_mlp_tau0.0021.pkl\n",
      "INFO - Note: StickBreakingACTBaseModel is running on GPU\n",
      "INFO - ['linear_in.weight', 'linear_in.bias', 'lstms.0.fc_i2h.weight', 'lstms.0.fc_i2h.bias', 'lstms.0.fc_h2h.weight', 'lstms.0.fc_h2h.bias', 'lstms.1.fc_i2h.weight', 'lstms.1.fc_i2h.bias', 'lstms.1.fc_h2h.weight', 'lstms.1.fc_h2h.bias', 'theta_linear_out.weight', 'rho_linear_out.weight', 'rho_linear_out.bias']\n"
     ]
    },
    {
     "name": "stdout",
     "output_type": "stream",
     "text": [
      "2 Loading model meta_actV1_mlp_tau0.0021 (q-prob 0.80) / run_20170914_13_43_55_meta_actV1_150ep_tau0.0021_lr5e05\n"
     ]
    },
    {
     "name": "stderr",
     "output_type": "stream",
     "text": [
      "INFO - created local logger for experiment with model act_sbV3.2_mlp_nu0.9\n"
     ]
    },
    {
     "name": "stdout",
     "output_type": "stream",
     "text": [
      "3 Loading model act_sbV3.2_mlp_nu0.9 (q-prob 0.90) / run_20170913_17_25_31_act_sbV3.2_20ep_nu0.9kls0.01_lr1e04\n"
     ]
    },
    {
     "name": "stderr",
     "output_type": "stream",
     "text": [
      "INFO - INFO - loaded existing model from file logs/run_20170913_17_25_31_act_sbV3.2_20ep_nu0.9kls0.01_lr1e04/act_sbV3.2_mlp_nu0.9.pkl\n",
      "INFO - Note: StickBreakingACTBaseModel is running on GPU\n",
      "INFO - ['linear_in.weight', 'linear_in.bias', 'lstms.0.fc_i2h.weight', 'lstms.0.fc_i2h.bias', 'lstms.0.fc_h2h.weight', 'lstms.0.fc_h2h.bias', 'lstms.1.fc_i2h.weight', 'lstms.1.fc_i2h.bias', 'lstms.1.fc_h2h.weight', 'lstms.1.fc_h2h.bias', 'theta_linear_out.weight', 'rho_linear_out.weight', 'rho_linear_out.bias']\n",
      "INFO - created local logger for experiment with model act_sbV3.2_mlp_nu0.9\n",
      "INFO - INFO - loaded existing model from file logs/run_20170913_10_50_36_act_sbV3.2_125ep_nu0.9_lr1e04/act_sbV3.2_mlp_nu0.9.pkl\n",
      "INFO - Note: StickBreakingACTBaseModel is running on GPU\n",
      "INFO - ['linear_in.weight', 'linear_in.bias', 'lstms.0.fc_i2h.weight', 'lstms.0.fc_i2h.bias', 'lstms.0.fc_h2h.weight', 'lstms.0.fc_h2h.bias', 'lstms.1.fc_i2h.weight', 'lstms.1.fc_i2h.bias', 'lstms.1.fc_h2h.weight', 'lstms.1.fc_h2h.bias', 'theta_linear_out.weight', 'rho_linear_out.weight', 'rho_linear_out.bias']\n"
     ]
    },
    {
     "name": "stdout",
     "output_type": "stream",
     "text": [
      "4 Loading model act_sbV3.2_mlp_nu0.9 (q-prob 0.90) / run_20170913_10_50_36_act_sbV3.2_125ep_nu0.9_lr1e04\n"
     ]
    }
   ],
   "source": [
    "## IMPORTANT ---- NUMBER OF STEPS FOR TEST EVALUATION\n",
    "MAX_EVAL_STEPS = 35\n",
    "\n",
    "without_models = False\n",
    "\n",
    "experiments = []\n",
    "models = []\n",
    "new_experiments = []\n",
    "explogger = None\n",
    "m = 0\n",
    "if 'logger' in vars() or 'logger' in globals():\n",
    "    pass\n",
    "else:\n",
    "    logger = create_logger(exper=None, file_handler=True, output_dir=\"/home/jogi/git/repository/meta_learner/logs\")\n",
    "\n",
    "for e, exp_path in enumerate(expers_to_load):\n",
    "    if exp_path[0]:\n",
    "        \n",
    "        exp = Experiment.load(exp_path[1], do_log=True, meta_logger=logger)\n",
    "            \n",
    "        if \"act\" in exp.args.model:\n",
    "            print(\"{} Loading model {} (q-prob {:.2f}) / {}\".format(m, exp.args.model, \n",
    "                                                                    exp.config.ptT_shape_param,\n",
    "                                                                    exp.args.log_dir))\n",
    "        else:\n",
    "            print(\"{} Loading model {} / {}\".format(m, exp.args.model, exp.args.log_dir))\n",
    "        \n",
    "        experiments.append(exp)\n",
    "        m += 1\n",
    "        if not without_models:\n",
    "            num_inputs = 1\n",
    "            if exp.args.problem == 'mlp':\n",
    "                num_inputs = 3\n",
    "            models.append(get_model(exp, num_inputs, retrain=True))\n",
    "        new_experiments.append(Experiment(exp.args, exp.config, set_seed=True))\n",
    "        new_experiments[-1].batch_handler_class = experiments[-1].batch_handler_class\n",
    "        new_experiments[-1].output_dir = experiments[-1].output_dir\n",
    "        new_experiments[-1].reset_val_stats()\n",
    "        new_experiments[-1].meta_logger = logger\n",
    "        new_experiments[-1].validation_handler_class = experiments[-1].validation_handler_class\n",
    "        new_experiments[-1].training_horizon = experiments[-1].config.T\n"
   ]
  },
  {
   "cell_type": "code",
   "execution_count": 13,
   "metadata": {
    "collapsed": false
   },
   "outputs": [
    {
     "name": "stdout",
     "output_type": "stream",
     "text": [
      "Loading experiment run_20170913_14_17_22_metaV1_90ep_100ops_lr9e06 / path run_20170913_14_17_22_metaV1_90ep_100ops_lr9e06/exp_eval_stats_200_200steps.dll\n",
      "Loading experiment run_20170912_22_23_56_meta_actV1_150ep_tau0.002_lr5e05 / path run_20170912_22_23_56_meta_actV1_150ep_tau0.002_lr5e05/exp_eval_stats_200_200steps.dll\n",
      "Loading experiment run_20170914_13_43_55_meta_actV1_150ep_tau0.0021_lr5e05 / path run_20170914_13_43_55_meta_actV1_150ep_tau0.0021_lr5e05/exp_eval_stats_200_200steps.dll\n",
      "Loading experiment run_20170913_17_25_31_act_sbV3.2_20ep_nu0.9kls0.01_lr1e04 / path run_20170913_17_25_31_act_sbV3.2_20ep_nu0.9kls0.01_lr1e04/exp_eval_stats_200_200steps.dll\n",
      "Loading experiment run_20170913_10_50_36_act_sbV3.2_125ep_nu0.9_lr1e04 / path run_20170913_10_50_36_act_sbV3.2_125ep_nu0.9_lr1e04/exp_eval_stats_200_200steps.dll\n",
      "Ready\n"
     ]
    }
   ],
   "source": [
    "del new_experiments\n",
    "new_experiments = []\n",
    "unrolled_steps=200\n",
    "num_of_funcs = 200\n",
    "\n",
    "for exper in expers_to_load:\n",
    "    if exper[0]:\n",
    "        \n",
    "        path_to_exp = exper[1] + \"/\" + \"exp_eval_stats_\" + str(num_of_funcs) + \"_\" + str(unrolled_steps) +\"steps.dll\"\n",
    "        print(\"Loading experiment {} / path {}\".format(exper[1], path_to_exp))\n",
    "        new_experiments.append(Experiment.load(path_to_exp=path_to_exp,\n",
    "                                               full_path=True))\n",
    "        if new_experiments[-1].meta_logger is None:\n",
    "            new_experiments[-1].meta_logger = logger\n",
    "print(\"Ready\")"
   ]
  },
  {
   "cell_type": "code",
   "execution_count": 4,
   "metadata": {
    "collapsed": false
   },
   "outputs": [
    {
     "name": "stdout",
     "output_type": "stream",
     "text": [
      "Ready\n"
     ]
    }
   ],
   "source": [
    "num_of_funcs = 200\n",
    "with open(\"data/test_default_mlp_\" + str(num_of_funcs) + \".dll\", 'rb') as f:\n",
    "     test_funcs = dill.load(f)\n",
    "print(\"Ready\")"
   ]
  },
  {
   "cell_type": "code",
   "execution_count": 11,
   "metadata": {
    "collapsed": false
   },
   "outputs": [
    {
     "name": "stdout",
     "output_type": "stream",
     "text": [
      "Ready\n"
     ]
    }
   ],
   "source": [
    "\"\"\"\n",
    "        NOTE 2 LAYER TEST MLPs!!!!!!!!!!!!!!!!!!!!!!!!!!!\n",
    "\"\"\"\n",
    "with open(\"data/test_2layer_mlp_50.dll\", 'rb') as f:\n",
    "     test_funcs = dill.load(f)\n",
    "print(\"Ready\")"
   ]
  },
  {
   "cell_type": "code",
   "execution_count": 61,
   "metadata": {
    "collapsed": false
   },
   "outputs": [
    {
     "data": {
      "text/plain": [
       "20"
      ]
     },
     "execution_count": 61,
     "metadata": {},
     "output_type": "execute_result"
    }
   ],
   "source": [
    "new_experiments[4].args.max_epoch"
   ]
  },
  {
   "cell_type": "code",
   "execution_count": null,
   "metadata": {
    "collapsed": false,
    "scrolled": false
   },
   "outputs": [],
   "source": [
    "some_experiments=[new_experiments[0],new_experiments[2],new_experiments[4]] #,  new_experiments[3]]\n",
    "#                  # new_experiments[5], new_experiments[6]] #   new_experiments[4],\n",
    "best_val_runs, lowest_value = plot_loss_over_tsteps(some_experiments, do_show=True, \n",
    "                                              do_save=False, \n",
    "                                              plot_best=False,\n",
    "                                              fig_name=\"mlp_1layer_100unroll_compare_meta_act_models_100mlps\", \n",
    "                                              loss_type=\"loss\",\n",
    "                                              min_step=0,\n",
    "                                              max_step=200,\n",
    "                                              sort_exper=\"MLP (200, 1-layer/20units)\",\n",
    "                                              log_scale=True,\n",
    "                                              y_lim=[0.3, 2.4],\n",
    "                                              with_stddev=False,\n",
    "                                              runID=None)"
   ]
  },
  {
   "cell_type": "code",
   "execution_count": null,
   "metadata": {
    "collapsed": false
   },
   "outputs": [],
   "source": [
    "loss_plot(experiments[1], loss_type=\"opt_loss\", save=True, show=True, \n",
    "          log_scale=False, validation=True, only_val=False)"
   ]
  },
  {
   "cell_type": "code",
   "execution_count": 5,
   "metadata": {
    "collapsed": false,
    "scrolled": false
   },
   "outputs": [
    {
     "name": "stderr",
     "output_type": "stream",
     "text": [
      "INFO - Epoch: 400 - Evaluating 200 test functions\n"
     ]
    },
    {
     "name": "stdout",
     "output_type": "stream",
     "text": [
      "Validating model meta_actV1_mlp_tau0.0021 \n",
      " >>> Optimizing 1 MLP <<<\n",
      " >>> Optimizing 11 MLP <<<\n",
      " >>> Optimizing 21 MLP <<<\n",
      " >>> Optimizing 31 MLP <<<\n",
      " >>> Optimizing 41 MLP <<<\n",
      " >>> Optimizing 51 MLP <<<\n",
      " >>> Optimizing 61 MLP <<<\n",
      " >>> Optimizing 71 MLP <<<\n",
      " >>> Optimizing 81 MLP <<<\n",
      " >>> Optimizing 91 MLP <<<\n",
      " >>> Optimizing 101 MLP <<<\n",
      " >>> Optimizing 111 MLP <<<\n",
      " >>> Optimizing 121 MLP <<<\n",
      " >>> Optimizing 131 MLP <<<\n",
      " >>> Optimizing 141 MLP <<<\n",
      " >>> Optimizing 151 MLP <<<\n",
      " >>> Optimizing 161 MLP <<<\n",
      " >>> Optimizing 171 MLP <<<\n",
      " >>> Optimizing 181 MLP <<<\n",
      " >>> Optimizing 191 MLP <<<\n"
     ]
    },
    {
     "name": "stderr",
     "output_type": "stream",
     "text": [
      "INFO - Epoch: 400 - evaluation result - time step losses\n",
      "INFO - [ 2.352  2.215  2.04   1.908  1.776  1.634  1.509  1.378  1.253  1.156\n",
      "  1.051  0.973  0.922  0.85   0.821  0.801  0.763  0.729  0.717  0.71   0.69\n",
      "  0.685  0.672  0.663  0.652  0.637  0.643  0.635  0.621  0.61   0.611\n",
      "  0.621  0.602  0.593  0.579  0.578  0.582  0.572  0.566  0.558  0.575\n",
      "  0.558  0.567  0.548  0.545  0.543  0.54   0.544  0.532  0.539  0.538\n",
      "  0.533  0.528  0.53   0.529  0.522  0.518  0.523  0.518  0.508  0.503\n",
      "  0.516  0.516  0.517  0.506  0.488  0.497  0.503  0.503  0.496  0.501\n",
      "  0.491  0.491  0.482  0.494  0.493  0.488  0.478  0.479  0.488  0.476\n",
      "  0.48   0.486  0.491  0.478  0.467  0.465  0.475  0.495  0.475  0.48\n",
      "  0.465  0.474  0.476  0.465  0.478  0.47   0.459  0.478  0.473  0.465\n",
      "  0.463  0.469  0.46   0.473  0.471  0.459  0.474  0.462  0.462  0.474\n",
      "  0.456  0.468  0.461  0.46   0.453  0.45   0.468  0.46   0.459  0.45\n",
      "  0.455  0.456  0.466  0.453  0.453  0.461  0.443  0.441  0.451  0.463\n",
      "  0.45   0.444  0.439  0.454  0.452  0.456  0.437  0.447  0.444  0.444\n",
      "  0.445  0.429  0.444  0.449  0.448  0.442  0.454  0.442  0.454  0.448\n",
      "  0.447  0.44   0.444  0.448  0.451  0.441  0.441  0.431  0.443  0.447\n",
      "  0.434  0.433  0.441  0.443  0.444  0.449  0.461  0.427  0.447  0.453\n",
      "  0.438  0.447  0.441  0.433  0.445  0.436  0.436  0.442  0.437  0.438\n",
      "  0.44   0.431  0.441  0.44   0.437  0.444  0.444  0.435  0.43   0.436\n",
      "  0.422  0.431  0.425  0.45   0.41   0.433  0.44   0.434  0.457  0.437]\n",
      "INFO - ! - Validation last step 106 - !\n",
      "INFO - Epoch: 400 - evaluation - halting step distribution\n",
      "INFO - [  0   0   0   0   0   0   0   0   0   0   0   0   0   0   0   0   0   0\n",
      "   0   0   0   0   0   0   0   0   0   0   0   0   0   0   0   0   0   0\n",
      "   0   0   0   0   0   0   0   0   0   0   0   0   0   0   0   0   0   0\n",
      "   0   0   0   0   0   0   0   0   0   0   0   0   0   0   0   0   0   0\n",
      "   0   0   0   0   0   0   0   0   0   0   0   0   0   0   0   0   0   0\n",
      "   0   0   0   0   0   0   0   0   0   0   0   0   0  72 127   1]\n",
      "INFO - Epoch: 400 - evaluation - Average number of optimization steps 104.645 stddev 0.489 median 105 sum-steps 20929\n",
      "INFO - Epoch: 400 - End test evaluation (elapsed time 719.26 sec) avg act loss/kl-term/penalty 0.859/0.2198/0.0000\n",
      "INFO - Epoch: 400 - End test evaluation - Avg accuracy 100.000\n",
      "INFO - Epoch: 400 - Successfully saved model to logs/run_20170914_13_43_55_meta_actV1_150ep_tau0.0021_lr5e05/meta_actV1_mlp_tau0.0021_eval_run400.pkl\n",
      "INFO - Epoch: 400 - Saving experimental details to logs/run_20170914_13_43_55_meta_actV1_150ep_tau0.0021_lr5e05/exp_eval_stats_200_200steps.dll\n"
     ]
    },
    {
     "name": "stdout",
     "output_type": "stream",
     "text": [
      "End....\n"
     ]
    }
   ],
   "source": [
    "exp_idx = 2\n",
    "model = models[exp_idx]\n",
    "\n",
    "max_steps = 200\n",
    "# new_experiments[exp_idx].model_path\n",
    "\n",
    "new_experiments[exp_idx].epoch = 400\n",
    "new_experiments[exp_idx].config.max_val_opt_steps = max_steps\n",
    "new_experiments[exp_idx].config.T = max_steps\n",
    "new_experiments[exp_idx].meta_logger = logger\n",
    "\n",
    "epoch_obj = Epoch()\n",
    "epoch_obj.start(new_experiments[exp_idx])\n",
    "print(\"Validating model {} \".format(model.name))\n",
    "new_experiments[exp_idx].eval(epoch_obj, model, functions=test_funcs, save_run=None, save_model=False)\n",
    "print(\"End....\")\n",
    "new_experiments[exp_idx].save(\"exp_eval_stats_200_\"+str(max_steps) + \"steps.dll\")"
   ]
  },
  {
   "cell_type": "code",
   "execution_count": 13,
   "metadata": {
    "collapsed": false
   },
   "outputs": [
    {
     "data": {
      "text/plain": [
       "(80,)"
      ]
     },
     "execution_count": 13,
     "metadata": {},
     "output_type": "execute_result"
    }
   ],
   "source": [
    "new_experiments[2].val_stats[\"qt_hist\"][400].shape"
   ]
  },
  {
   "cell_type": "code",
   "execution_count": 9,
   "metadata": {
    "collapsed": false
   },
   "outputs": [],
   "source": [
    "X = np.vstack(new_experiments[2].val_stats[\"halt_step_funcs\"].values())"
   ]
  },
  {
   "cell_type": "code",
   "execution_count": null,
   "metadata": {
    "collapsed": false,
    "scrolled": false
   },
   "outputs": [],
   "source": [
    "exp_idx = 1\n",
    "max_steps = 60\n",
    "new_experiments[exp_idx].epoch = 400\n",
    "new_experiments[exp_idx].config.max_val_opt_steps = max_steps\n",
    "new_experiments[exp_idx].config.T = max_steps\n",
    "new_experiments[exp_idx].config.qt_threshold = 0.95\n",
    "new_experiments[exp_idx].reset_val_stats()\n",
    "if new_experiments[exp_idx].meta_logger is None:\n",
    "    new_experiments[exp_idx].meta_logger = logger\n",
    "# the same object for the validation data\n",
    "model = models[exp_idx]\n",
    "model.opt_step_hist_val = np.zeros(new_experiments[exp_idx].config.max_val_opt_steps)\n",
    "model.qt_hist_val = OrderedDict([(i, np.zeros(i)) \n",
    "                                 for i in np.arange(1, new_experiments[exp_idx].config.max_val_opt_steps + 1)])\n",
    "print(\"Validating model {} with q-prob {:.3f}\".format(model.name, experiments[exp_idx].config.ptT_shape_param))\n",
    "\n",
    "if \"act\" in model.name:\n",
    "    model.init_qt_statistics(new_experiments[exp_idx].config)\n",
    "\n",
    "validate_optimizer(model, new_experiments[exp_idx], explogger, val_set=test_funcs, \n",
    "                   max_steps=max_steps, verbose=False, plot_func=False, show_plot=False, save_plot=False,\n",
    "                   num_of_plots=5, save_model=False, save_qt_prob_funcs=False, \n",
    "                   save_run=\"exp_eval_stats_10000_\"+str(max_steps) + \"steps\")\n",
    "new_experiments[exp_idx].save(\"exp_eval_stats_50_\"+str(max_steps) + \"steps.dll\")"
   ]
  },
  {
   "cell_type": "code",
   "execution_count": null,
   "metadata": {
    "collapsed": false
   },
   "outputs": [],
   "source": [
    "plot_qt_probs(new_experiments[2], data_set=\"val\", save=True, show=True, \n",
    "              plot_prior=False, height=20, width=20, add_info=True)"
   ]
  },
  {
   "cell_type": "code",
   "execution_count": null,
   "metadata": {
    "collapsed": false
   },
   "outputs": [],
   "source": [
    "from utils.plots import create_exper_label\n",
    "num_of_plots = 13\n",
    "T0 = 23\n",
    "fig = plt.figure(figsize=(8, 25))\n",
    "\n",
    "for i in range(1, num_of_plots+1):\n",
    "    T = T0+i\n",
    "    index = np.arange(1, T+1).astype(int)\n",
    "    qt = exper.val_stats[\"qt_hist\"][30][T]\n",
    "    ax1 = plt.subplot(num_of_plots, 1, i)\n",
    "    plt.bar(index, qt, 0.3, label=\"q(t|{})\".format(T))\n",
    "    ax1.legend(loc=\"best\")\n",
    "    \n",
    "fig_name = \"_\" + \"val\" + \"_\" + create_exper_label(exper)\n",
    "fig_name = os.path.join(exper.output_dir, config.qt_dist_prefix + fig_name + \".png\")\n",
    "plt.savefig(fig_name, bbox_inches='tight')\n",
    "plt.close()"
   ]
  },
  {
   "cell_type": "code",
   "execution_count": 41,
   "metadata": {
    "collapsed": false
   },
   "outputs": [
    {
     "name": "stdout",
     "output_type": "stream",
     "text": [
      "INFO - Successfully saved fig logs/run_20170814_17_04_25_metaV1_50ep_100ops_lr3e05/loss_metaV1_50ep_100ops_21:43:29.png\n"
     ]
    },
    {
     "data": {
      "image/png": "[encoded data removed]",
      "text/plain": [
       "<matplotlib.figure.Figure at 0x7fe27172a490>"
      ]
     },
     "metadata": {},
     "output_type": "display_data"
    }
   ],
   "source": [
    "loss_plot(experiments[0], show=True, save=True, validation=False, only_val=False)"
   ]
  },
  {
   "cell_type": "code",
   "execution_count": null,
   "metadata": {
    "collapsed": false,
    "scrolled": false
   },
   "outputs": [],
   "source": [
    "plot_actsb_qts(new_experiments[3], data_set=\"eval\", save=False, show=True, add_info=False, epoch=400, \n",
    "              fig_name=\"qt_dist_test_eval_500steps\")"
   ]
  },
  {
   "cell_type": "code",
   "execution_count": 79,
   "metadata": {
    "collapsed": false
   },
   "outputs": [
    {
     "name": "stdout",
     "output_type": "stream",
     "text": [
      "INFO - Successfully saved fig logs/run_20170815_14_33_06_act_sbV2_50ep_nu0.95_lr5e05/T_dist_eval.png\n"
     ]
    },
    {
     "data": {
      "image/png": "[encoded data removed]",
      "text/plain": [
       "<matplotlib.figure.Figure at 0x7f5eed47e750>"
      ]
     },
     "metadata": {},
     "output_type": "display_data"
    }
   ],
   "source": [
    "plot_dist_optimization_steps(new_experiments[2], data_set=\"eval\", save=True, show=True, epoch=400)"
   ]
  },
  {
   "cell_type": "code",
   "execution_count": null,
   "metadata": {
    "collapsed": false
   },
   "outputs": [],
   "source": [
    "plot_qt_detailed_stats(new_experiments[0], test_funcs, do_save=True, do_show=True, threshold=0.90)"
   ]
  },
  {
   "cell_type": "code",
   "execution_count": 35,
   "metadata": {
    "collapsed": false
   },
   "outputs": [
    {
     "name": "stdout",
     "output_type": "stream",
     "text": [
      "INFO - Successfully saved fig logs/run_20170913_09_23_11_act_sbV3.2_125ep_nu0.9_lr1e04/qt_values_test100steps_unrolled_on_200_MLPs_w_laststep.png\n"
     ]
    },
    {
     "data": {
      "image/png": "[encoded data removed]",
      "text/plain": [
       "<matplotlib.figure.Figure at 0x7fef39b25690>"
      ]
     },
     "metadata": {},
     "output_type": "display_data"
    }
   ],
   "source": [
    "plot_actsb_qts(new_experiments[1], data_set=\"eval\", fig_name=\"qt_values_test100steps_unrolled_on_200_MLPs_w_laststep\", \n",
    "               height=10, width=6, save=True, show=True, omit_last_step=True)"
   ]
  },
  {
   "cell_type": "code",
   "execution_count": 8,
   "metadata": {
    "collapsed": false
   },
   "outputs": [
    {
     "name": "stdout",
     "output_type": "stream",
     "text": [
      "0.937136530623\n"
     ]
    }
   ],
   "source": [
    "print(np.sum(new_experiments[1].val_stats[\"qt_hist\"][400][0:50]))"
   ]
  },
  {
   "cell_type": "code",
   "execution_count": null,
   "metadata": {
    "collapsed": false
   },
   "outputs": [],
   "source": [
    "from mpl_toolkits.mplot3d import Axes3D\n",
    "from matplotlib import cm\n",
    "from matplotlib.ticker import LinearLocator, FormatStrFormatter\n",
    "\n",
    "fig = plt.figure(figsize=(8, 6))\n",
    "ax = fig.gca(projection='3d')\n",
    "\n",
    "s = 0.05   # Try s=1, 0.25, 0.1, or 0.05\n",
    "X = np.arange(-1.2, 4+s, s)   #Could use linspace instead if dividing\n",
    "Y = np.arange(10, 13+s, s)   #evenly instead of stepping...\n",
    "    \n",
    "#Create the mesh grid(s) for all X/Y combos.\n",
    "X, Y = np.meshgrid(X, Y)\n",
    "\n",
    "#Rosenbrock function w/ two parameters using numpy Arrays\n",
    "Z = (3.5-X)**2 + 100.*(Y-X*X)**2\n",
    "\n",
    "surf = ax.plot_surface(X, Y, Z, rstride=1, cstride=1, cmap=cm.coolwarm,\n",
    "         linewidth=0, antialiased=False)  #Try coolwarm vs jet\n",
    "\n",
    "plt.xlabel('x')\n",
    "plt.ylabel('y')\n",
    "# ax.zaxis.set_major_locator(LinearLocator(10))\n",
    "# ax.zaxis.set_major_formatter(FormatStrFormatter('%.02f'))\n",
    "\n",
    "fig.colorbar(surf, shrink=0.5, aspect=5)\n",
    "\n",
    "#Displays the figure, handles user interface, returns when user closes window\n",
    "plt.show()"
   ]
  },
  {
   "cell_type": "code",
   "execution_count": 5,
   "metadata": {
    "collapsed": false
   },
   "outputs": [
    {
     "name": "stdout",
     "output_type": "stream",
     "text": [
      "Ready\n"
     ]
    }
   ],
   "source": [
    "\"\"\"\n",
    "    Generate new test functions\n",
    "\"\"\"\n",
    "test_funcs = RegressionWithStudentT(n_funcs=10000, n_samples=10, x_dim=10, scale_p=1., shape_p=1, use_cuda=True)\n",
    "with open(\"data/test_regression_T_10000_10_1.0_10.dll\", 'wb') as f:\n",
    "     dill.dump(test_funcs, f)\n",
    "print(\"Ready\")\n"
   ]
  },
  {
   "cell_type": "code",
   "execution_count": 17,
   "metadata": {
    "collapsed": false
   },
   "outputs": [
    {
     "name": "stdout",
     "output_type": "stream",
     "text": [
      "Ready\n"
     ]
    }
   ],
   "source": [
    "# two_layer_mlp_architecture, default_mlp_architecture\n",
    "\n",
    "test_funcs = []\n",
    "num_of_funcs = 200\n",
    "for _ in np.arange(num_of_funcs):\n",
    "    test_funcs.append(MLP(default_mlp_architecture))\n",
    "with open(\"data/test_default_mlp_\" + str(num_of_funcs) + \".dll\", 'wb') as f:\n",
    "     dill.dump(test_funcs, f)\n",
    "print(\"Ready\")"
   ]
  },
  {
   "cell_type": "code",
   "execution_count": 11,
   "metadata": {
    "collapsed": false
   },
   "outputs": [
    {
     "name": "stdout",
     "output_type": "stream",
     "text": [
      "INFO - Successfully saved fig logs/run_20170914_13_43_55_meta_actV1_150ep_tau0.0021_lr5e05/loss_train_meta_actV1_150ep_tau0.0021.png\n",
      "(100, 150)\n",
      "INFO - Successfully saved fig logs/run_20170914_13_43_55_meta_actV1_150ep_tau0.0021_lr5e05/loss_optimizer_train_meta_actV1_150ep_tau0.0021.png\n",
      "INFO - Successfully saved fig logs/run_20170914_13_43_55_meta_actV1_150ep_tau0.0021_lr5e05/loss_eval_meta_actV1_150ep_tau0.0021.png\n",
      "(100, 150)\n",
      "INFO - Successfully saved fig logs/run_20170914_13_43_55_meta_actV1_150ep_tau0.0021_lr5e05/loss_optimizer_eval_meta_actV1_150ep_tau0.0021.png\n",
      "INFO - Successfully saved fig logs/run_20170914_13_43_55_meta_actV1_150ep_tau0.0021_lr5e05/train_step_loss_map_meta_actV1_150ep_tau0.0021.png\n",
      "INFO - Successfully saved fig logs/run_20170914_13_43_55_meta_actV1_150ep_tau0.0021_lr5e05/T_dist_train.png\n",
      "INFO - Successfully saved fig logs/run_20170914_13_43_55_meta_actV1_150ep_tau0.0021_lr5e05/gradient_statistics.png\n",
      "INFO - Successfully saved fig logs/run_20170914_13_43_55_meta_actV1_150ep_tau0.0021_lr5e05/eval_step_loss_map_meta_actV1_150ep_tau0.0021.png\n",
      "INFO - Successfully saved fig logs/run_20170914_13_43_55_meta_actV1_150ep_tau0.0021_lr5e05/train_step_map_qts_meta_actV1_150ep_tau0.0021.png\n",
      "INFO - Successfully saved fig logs/run_20170914_13_43_55_meta_actV1_150ep_tau0.0021_lr5e05/train_step_map_halting_meta_actV1_150ep_tau0.0021.png\n",
      "INFO - Successfully saved fig logs/run_20170914_13_43_55_meta_actV1_150ep_tau0.0021_lr5e05/qt_values_train_meta_actV1_150ep_tau0.0021.png\n",
      "INFO - Successfully saved fig logs/run_20170914_13_43_55_meta_actV1_150ep_tau0.0021_lr5e05/halting_step_stats.png\n",
      "INFO - Successfully saved fig logs/run_20170914_13_43_55_meta_actV1_150ep_tau0.0021_lr5e05/T_dist_eval.png\n",
      "INFO - Successfully saved fig logs/run_20170914_13_43_55_meta_actV1_150ep_tau0.0021_lr5e05/qt_values_eval_meta_actV1_150ep_tau0.0021.png\n",
      "INFO - Successfully saved fig logs/run_20170914_13_43_55_meta_actV1_150ep_tau0.0021_lr5e05/eval_step_map_qts_meta_actV1_150ep_tau0.0021.png\n",
      "INFO - Successfully saved fig logs/run_20170914_13_43_55_meta_actV1_150ep_tau0.0021_lr5e05/eval_step_map_halting_meta_actV1_150ep_tau0.0021.png\n"
     ]
    }
   ],
   "source": [
    "experiments[2].generate_figures()"
   ]
  },
  {
   "cell_type": "code",
   "execution_count": 13,
   "metadata": {
    "collapsed": false
   },
   "outputs": [
    {
     "data": {
      "image/png": "[encoded data removed]",
      "text/plain": [
       "<matplotlib.figure.Figure at 0x7fc5b6b10f90>"
      ]
     },
     "metadata": {},
     "output_type": "display_data"
    }
   ],
   "source": [
    "plot_actsb_qts(experiments[2], data_set=\"train\", fig_name=\"qt_values_test100steps_unrolled_on_50_MLPs\", \n",
    "               height=10, width=6, save=False, show=True, epoch=130)"
   ]
  },
  {
   "cell_type": "code",
   "execution_count": 53,
   "metadata": {
    "collapsed": false
   },
   "outputs": [
    {
     "name": "stderr",
     "output_type": "stream",
     "text": [
      "INFO - Epoch: 0 - Saving experimental details to logs/run_20170913_10_50_36_act_sbV3.2_125ep_nu0.9_lr1e04/exp_eval_stats_200_200steps.dll\n"
     ]
    }
   ],
   "source": [
    "new_exp = Experiment(new_experiments[6].args, new_experiments[6].config, set_seed=True)\n",
    "new_exp.batch_handler_class = new_experiments[6].batch_handler_class\n",
    "new_exp.output_dir = new_experiments[6].output_dir\n",
    "new_exp.meta_logger = logger\n",
    "new_exp.validation_handler_class = new_experiments[6].validation_handler_class\n",
    "new_exp.training_horizon = new_experiments[6].config.T\n",
    "\n",
    "new_exp.val_stats[\"step_losses\"][400] = new_experiments[6].val_stats[\"step_losses\"][400]\n",
    "new_exp.val_stats[\"opt_step_hist\"][400] = new_experiments[6].val_stats[\"opt_step_hist\"][400]\n",
    "new_exp.val_stats[\"halting_step\"][400] = new_experiments[6].val_stats[\"halting_step\"][400]\n",
    "new_exp.val_stats[\"qt_hist\"][400] = new_experiments[6].val_stats[\"qt_hist\"][400]\n",
    "new_exp.val_stats[\"step_acc\"][400] = new_experiments[6].val_stats[\"step_acc\"][400]\n",
    "new_exp.save(\"exp_eval_stats_200_\"+str(200) + \"steps.dll\")"
   ]
  },
  {
   "cell_type": "code",
   "execution_count": 18,
   "metadata": {
    "collapsed": false
   },
   "outputs": [
    {
     "data": {
      "text/plain": [
       "1.0"
      ]
     },
     "execution_count": 18,
     "metadata": {},
     "output_type": "execute_result"
    }
   ],
   "source": [
    "np.sum(new_experiments[4].val_stats[\"qt_hist\"][400])"
   ]
  }
 ],
 "metadata": {
  "kernelspec": {
   "display_name": "Python 2",
   "language": "python",
   "name": "python2"
  },
  "language_info": {
   "codemirror_mode": {
    "name": "ipython",
    "version": 2
   },
   "file_extension": ".py",
   "mimetype": "text/x-python",
   "name": "python",
   "nbconvert_exporter": "python",
   "pygments_lexer": "ipython2",
   "version": "2.7.13"
  }
 },
 "nbformat": 4,
 "nbformat_minor": 0
}
